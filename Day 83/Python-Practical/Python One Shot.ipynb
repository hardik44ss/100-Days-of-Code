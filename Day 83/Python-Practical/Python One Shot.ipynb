{
 "cells": [
  {
   "cell_type": "markdown",
   "id": "434cdcda",
   "metadata": {},
   "source": [
    "# Variables"
   ]
  },
  {
   "cell_type": "code",
   "execution_count": 1,
   "id": "ae8c05e8",
   "metadata": {},
   "outputs": [],
   "source": [
    "a = 1\n",
    "b = '1'\n",
    "c = \"1\"\n",
    "d = 1.0"
   ]
  },
  {
   "cell_type": "code",
   "execution_count": 2,
   "id": "dbd8db5e",
   "metadata": {},
   "outputs": [
    {
     "name": "stdout",
     "output_type": "stream",
     "text": [
      "1\n",
      "1\n",
      "1\n",
      "1.0\n"
     ]
    }
   ],
   "source": [
    "print(a)\n",
    "print(b)\n",
    "print(c)\n",
    "print(d)"
   ]
  },
  {
   "cell_type": "code",
   "execution_count": 3,
   "id": "a131a36c",
   "metadata": {},
   "outputs": [
    {
     "name": "stdout",
     "output_type": "stream",
     "text": [
      "Types : \n",
      "<class 'int'>\n",
      "<class 'str'>\n",
      "<class 'str'>\n",
      "<class 'float'>\n"
     ]
    }
   ],
   "source": [
    "print(\"Types : \")\n",
    "print(type(a))\n",
    "print(type(b))\n",
    "print(type(c))\n",
    "print(type(d))\n"
   ]
  },
  {
   "cell_type": "code",
   "execution_count": 4,
   "id": "559acb74",
   "metadata": {},
   "outputs": [
    {
     "name": "stdout",
     "output_type": "stream",
     "text": [
      "140340740811056\n"
     ]
    }
   ],
   "source": [
    "print(id(a))"
   ]
  },
  {
   "cell_type": "code",
   "execution_count": 4,
   "id": "6c61a540",
   "metadata": {},
   "outputs": [],
   "source": [
    "x = 'Python'\n",
    "X = 'OneShot'"
   ]
  },
  {
   "cell_type": "code",
   "execution_count": 5,
   "id": "87cf8119",
   "metadata": {},
   "outputs": [
    {
     "name": "stdout",
     "output_type": "stream",
     "text": [
      "Python\n",
      "OneShot\n"
     ]
    }
   ],
   "source": [
    "print(x)\n",
    "print(X)"
   ]
  },
  {
   "cell_type": "code",
   "execution_count": 6,
   "id": "b623d4e2",
   "metadata": {},
   "outputs": [],
   "source": [
    "python = 1\n",
    "py_thon = 1\n",
    "_python = 1\n",
    "Python = 1\n",
    "PYTHON = 1\n",
    "python1 = 1"
   ]
  },
  {
   "cell_type": "code",
   "execution_count": 7,
   "id": "b428fecf",
   "metadata": {},
   "outputs": [
    {
     "ename": "SyntaxError",
     "evalue": "invalid syntax (535306765.py, line 1)",
     "output_type": "error",
     "traceback": [
      "\u001b[0;36m  File \u001b[0;32m\"/var/folders/m0/4t6ggwz51774ll_46v6qgz3h0000gn/T/ipykernel_3422/535306765.py\"\u001b[0;36m, line \u001b[0;32m1\u001b[0m\n\u001b[0;31m    if = 1\u001b[0m\n\u001b[0m       ^\u001b[0m\n\u001b[0;31mSyntaxError\u001b[0m\u001b[0;31m:\u001b[0m invalid syntax\n"
     ]
    }
   ],
   "source": [
    "if = 1"
   ]
  },
  {
   "cell_type": "code",
   "execution_count": 10,
   "id": "36250c09",
   "metadata": {},
   "outputs": [
    {
     "ename": "SyntaxError",
     "evalue": "invalid syntax (2593788612.py, line 1)",
     "output_type": "error",
     "traceback": [
      "\u001b[0;36m  File \u001b[0;32m\"/var/folders/m0/4t6ggwz51774ll_46v6qgz3h0000gn/T/ipykernel_3422/2593788612.py\"\u001b[0;36m, line \u001b[0;32m1\u001b[0m\n\u001b[0;31m    1python = 1\u001b[0m\n\u001b[0m     ^\u001b[0m\n\u001b[0;31mSyntaxError\u001b[0m\u001b[0;31m:\u001b[0m invalid syntax\n"
     ]
    }
   ],
   "source": [
    "1python = 1"
   ]
  },
  {
   "cell_type": "code",
   "execution_count": 11,
   "id": "7e94f8fc",
   "metadata": {},
   "outputs": [
    {
     "ename": "SyntaxError",
     "evalue": "invalid syntax (1257671524.py, line 1)",
     "output_type": "error",
     "traceback": [
      "\u001b[0;36m  File \u001b[0;32m\"/var/folders/m0/4t6ggwz51774ll_46v6qgz3h0000gn/T/ipykernel_3422/1257671524.py\"\u001b[0;36m, line \u001b[0;32m1\u001b[0m\n\u001b[0;31m    py$thon =1\u001b[0m\n\u001b[0m      ^\u001b[0m\n\u001b[0;31mSyntaxError\u001b[0m\u001b[0;31m:\u001b[0m invalid syntax\n"
     ]
    }
   ],
   "source": [
    "py$thon =1"
   ]
  },
  {
   "cell_type": "code",
   "execution_count": null,
   "id": "470bfc26",
   "metadata": {},
   "outputs": [
    {
     "ename": "SyntaxError",
     "evalue": "cannot assign to operator (708158509.py, line 1)",
     "output_type": "error",
     "traceback": [
      "\u001b[0;36m  File \u001b[0;32m\"/var/folders/m0/4t6ggwz51774ll_46v6qgz3h0000gn/T/ipykernel_3422/708158509.py\"\u001b[0;36m, line \u001b[0;32m1\u001b[0m\n\u001b[0;31m    py@thon = 1\u001b[0m\n\u001b[0m    ^\u001b[0m\n\u001b[0;31mSyntaxError\u001b[0m\u001b[0;31m:\u001b[0m cannot assign to operator\n"
     ]
    }
   ],
   "source": [
    "py@thon = 1"
   ]
  },
  {
   "cell_type": "code",
   "execution_count": 13,
   "id": "eed032c6",
   "metadata": {},
   "outputs": [],
   "source": [
    "Variable1,Variable2,Variable3  = '1','2','3' "
   ]
  },
  {
   "cell_type": "code",
   "execution_count": 14,
   "id": "1d089436",
   "metadata": {},
   "outputs": [],
   "source": [
    "Variable1=Variable2=Variable3 = 5"
   ]
  },
  {
   "cell_type": "markdown",
   "id": "8561524f",
   "metadata": {},
   "source": [
    "# Comments"
   ]
  },
  {
   "cell_type": "code",
   "execution_count": 62,
   "id": "714116b8",
   "metadata": {},
   "outputs": [],
   "source": [
    "#This is an example of single line comment"
   ]
  },
  {
   "cell_type": "code",
   "execution_count": 64,
   "id": "99f579a8",
   "metadata": {},
   "outputs": [
    {
     "name": "stdout",
     "output_type": "stream",
     "text": [
      "comments\n"
     ]
    }
   ],
   "source": [
    "'''This is an example \n",
    "of multiline comment'''\n",
    "print('comments')"
   ]
  },
  {
   "cell_type": "markdown",
   "id": "b1d6538d",
   "metadata": {},
   "source": [
    "# Datatype"
   ]
  },
  {
   "cell_type": "code",
   "execution_count": 15,
   "id": "26f7ad3f",
   "metadata": {},
   "outputs": [],
   "source": [
    "d1 = 5\n",
    "d2 = 'shridhar'\n",
    "d3 = 5.0\n",
    "d4 = True\n",
    "d5 = 5j\n",
    "d6 = [1,2,3]\n",
    "d7 = {1,2,3}\n",
    "d8 = (1,2,3)\n",
    "d9 = {'naam' : 'shridhar', 'kaam' : 'Students ki help karna'}\n",
    "d10 = None"
   ]
  },
  {
   "cell_type": "code",
   "execution_count": 16,
   "id": "516e9764",
   "metadata": {},
   "outputs": [
    {
     "name": "stdout",
     "output_type": "stream",
     "text": [
      "<class 'int'>\n",
      "<class 'str'>\n",
      "<class 'float'>\n",
      "<class 'bool'>\n",
      "<class 'complex'>\n",
      "<class 'list'>\n",
      "<class 'set'>\n",
      "<class 'tuple'>\n",
      "<class 'dict'>\n",
      "<class 'NoneType'>\n"
     ]
    }
   ],
   "source": [
    "print(type(d1))\n",
    "print(type(d2))\n",
    "print(type(d3))\n",
    "print(type(d4))\n",
    "print(type(d5))\n",
    "print(type(d6))\n",
    "print(type(d7))\n",
    "print(type(d8))\n",
    "print(type(d9))\n",
    "print(type(d10))"
   ]
  },
  {
   "cell_type": "markdown",
   "id": "ed936911",
   "metadata": {},
   "source": [
    "# String"
   ]
  },
  {
   "cell_type": "code",
   "execution_count": 18,
   "id": "448b4772",
   "metadata": {},
   "outputs": [
    {
     "name": "stdout",
     "output_type": "stream",
     "text": [
      "Hello and welcome dosto\n",
      "to 5 minutes engineering,\n",
      "aaj ka video bada kamal ka hone wala hai\n"
     ]
    }
   ],
   "source": [
    "A = '''Hello and welcome dosto\n",
    "to 5 minutes engineering,\n",
    "aaj ka video bada kamal ka hone wala hai'''\n",
    "print(A)"
   ]
  },
  {
   "cell_type": "code",
   "execution_count": 19,
   "id": "2e5fb196",
   "metadata": {},
   "outputs": [
    {
     "name": "stdout",
     "output_type": "stream",
     "text": [
      "Hello and welcome dosto\n",
      "to 5 minutes engineering,\n",
      "aaj ka video bada kamal ka hone wala hai\n"
     ]
    }
   ],
   "source": [
    "B = \"\"\"Hello and welcome dosto\n",
    "to 5 minutes engineering,\n",
    "aaj ka video bada kamal ka hone wala hai\"\"\"\n",
    "print(B)"
   ]
  },
  {
   "cell_type": "code",
   "execution_count": 20,
   "id": "a425569b",
   "metadata": {},
   "outputs": [
    {
     "name": "stdout",
     "output_type": "stream",
     "text": [
      "s\n",
      "h\n",
      "r\n",
      "i\n",
      "d\n",
      "h\n",
      "a\n",
      "r\n"
     ]
    }
   ],
   "source": [
    "C = 'shridhar'\n",
    "print(C[0])\n",
    "print(C[1])\n",
    "print(C[2])\n",
    "print(C[3])\n",
    "print(C[4])\n",
    "print(C[5])\n",
    "print(C[6])\n",
    "print(C[7])"
   ]
  },
  {
   "cell_type": "code",
   "execution_count": 21,
   "id": "b8f9f750",
   "metadata": {},
   "outputs": [
    {
     "name": "stdout",
     "output_type": "stream",
     "text": [
      "90\n"
     ]
    }
   ],
   "source": [
    "print(len(A))"
   ]
  },
  {
   "cell_type": "markdown",
   "id": "55d6efbf",
   "metadata": {},
   "source": [
    "# Type Conversion"
   ]
  },
  {
   "cell_type": "markdown",
   "id": "90c438bf",
   "metadata": {},
   "source": [
    "# Implicit"
   ]
  },
  {
   "cell_type": "code",
   "execution_count": 65,
   "id": "3aaca8c7",
   "metadata": {},
   "outputs": [
    {
     "name": "stdout",
     "output_type": "stream",
     "text": [
      "<class 'float'>\n"
     ]
    },
    {
     "data": {
      "text/plain": [
       "10.0"
      ]
     },
     "execution_count": 65,
     "metadata": {},
     "output_type": "execute_result"
    }
   ],
   "source": [
    "intt = 5\n",
    "flt  = 5.0\n",
    "add  = intt + flt\n",
    "print(type(add))\n",
    "add"
   ]
  },
  {
   "cell_type": "code",
   "execution_count": 66,
   "id": "3686b9eb",
   "metadata": {},
   "outputs": [
    {
     "ename": "TypeError",
     "evalue": "unsupported operand type(s) for +: 'int' and 'str'",
     "output_type": "error",
     "traceback": [
      "\u001b[0;31m---------------------------------------------------------------------------\u001b[0m",
      "\u001b[0;31mTypeError\u001b[0m                                 Traceback (most recent call last)",
      "\u001b[0;32m/var/folders/m0/4t6ggwz51774ll_46v6qgz3h0000gn/T/ipykernel_4909/471825205.py\u001b[0m in \u001b[0;36m<module>\u001b[0;34m\u001b[0m\n\u001b[1;32m      1\u001b[0m \u001b[0mintt\u001b[0m \u001b[0;34m=\u001b[0m \u001b[0;36m5\u001b[0m\u001b[0;34m\u001b[0m\u001b[0;34m\u001b[0m\u001b[0m\n\u001b[1;32m      2\u001b[0m \u001b[0mstrr\u001b[0m \u001b[0;34m=\u001b[0m \u001b[0;34m'5'\u001b[0m\u001b[0;34m\u001b[0m\u001b[0;34m\u001b[0m\u001b[0m\n\u001b[0;32m----> 3\u001b[0;31m \u001b[0maddd\u001b[0m  \u001b[0;34m=\u001b[0m \u001b[0mintt\u001b[0m \u001b[0;34m+\u001b[0m \u001b[0mstrr\u001b[0m\u001b[0;34m\u001b[0m\u001b[0;34m\u001b[0m\u001b[0m\n\u001b[0m\u001b[1;32m      4\u001b[0m \u001b[0mprint\u001b[0m\u001b[0;34m(\u001b[0m\u001b[0mtype\u001b[0m\u001b[0;34m(\u001b[0m\u001b[0maddd\u001b[0m\u001b[0;34m)\u001b[0m\u001b[0;34m)\u001b[0m\u001b[0;34m\u001b[0m\u001b[0;34m\u001b[0m\u001b[0m\n\u001b[1;32m      5\u001b[0m \u001b[0maddd\u001b[0m\u001b[0;34m\u001b[0m\u001b[0;34m\u001b[0m\u001b[0m\n",
      "\u001b[0;31mTypeError\u001b[0m: unsupported operand type(s) for +: 'int' and 'str'"
     ]
    }
   ],
   "source": [
    "intt = 5\n",
    "strr = '5'\n",
    "addd  = intt + strr\n",
    "print(type(addd))\n",
    "addd"
   ]
  },
  {
   "cell_type": "markdown",
   "id": "1c003c2a",
   "metadata": {},
   "source": [
    "# Explicit"
   ]
  },
  {
   "cell_type": "code",
   "execution_count": 67,
   "id": "522d8df8",
   "metadata": {},
   "outputs": [
    {
     "name": "stdout",
     "output_type": "stream",
     "text": [
      "<class 'int'>\n"
     ]
    },
    {
     "data": {
      "text/plain": [
       "10"
      ]
     },
     "execution_count": 67,
     "metadata": {},
     "output_type": "execute_result"
    }
   ],
   "source": [
    "intt = 5\n",
    "strr = '5'\n",
    "addd  = intt + int(strr)\n",
    "print(type(addd))\n",
    "addd"
   ]
  },
  {
   "cell_type": "code",
   "execution_count": 68,
   "id": "b666b683",
   "metadata": {},
   "outputs": [
    {
     "name": "stdout",
     "output_type": "stream",
     "text": [
      "<class 'str'>\n"
     ]
    },
    {
     "data": {
      "text/plain": [
       "'55'"
      ]
     },
     "execution_count": 68,
     "metadata": {},
     "output_type": "execute_result"
    }
   ],
   "source": [
    "intt = 5\n",
    "strr = '5'\n",
    "addd  = str(intt) + strr\n",
    "print(type(addd))\n",
    "addd"
   ]
  },
  {
   "cell_type": "markdown",
   "id": "f43e4ec8",
   "metadata": {},
   "source": [
    "# Operators"
   ]
  },
  {
   "cell_type": "markdown",
   "id": "5fa2f166",
   "metadata": {},
   "source": [
    "# Arithemetic Operators"
   ]
  },
  {
   "cell_type": "code",
   "execution_count": 23,
   "id": "4aedcf19",
   "metadata": {},
   "outputs": [],
   "source": [
    "x = 2\n",
    "y = 5"
   ]
  },
  {
   "cell_type": "code",
   "execution_count": 25,
   "id": "1c133b70",
   "metadata": {},
   "outputs": [
    {
     "name": "stdout",
     "output_type": "stream",
     "text": [
      "7\n",
      "-3\n",
      "10\n",
      "0.4\n",
      "2\n",
      "32\n"
     ]
    }
   ],
   "source": [
    "print(x+y)\n",
    "print(x-y)\n",
    "print(x*y)\n",
    "print(x/y)\n",
    "print(x%y)\n",
    "print(x**y)"
   ]
  },
  {
   "cell_type": "markdown",
   "id": "6a6f4c99",
   "metadata": {},
   "source": [
    "# Comparison Operators"
   ]
  },
  {
   "cell_type": "code",
   "execution_count": 26,
   "id": "682ba4a6",
   "metadata": {},
   "outputs": [
    {
     "name": "stdout",
     "output_type": "stream",
     "text": [
      "False\n",
      "True\n",
      "True\n",
      "False\n",
      "True\n",
      "False\n"
     ]
    }
   ],
   "source": [
    "print(x==y)\n",
    "print(x!=y)\n",
    "print(x<y)\n",
    "print(x>y)\n",
    "print(x<=y)\n",
    "print(x>=y)"
   ]
  },
  {
   "cell_type": "markdown",
   "id": "14c57811",
   "metadata": {},
   "source": [
    "# Assignment Operators"
   ]
  },
  {
   "cell_type": "code",
   "execution_count": 28,
   "id": "b2adf6c0",
   "metadata": {},
   "outputs": [
    {
     "name": "stdout",
     "output_type": "stream",
     "text": [
      "10\n",
      "20\n",
      "10\n",
      "100\n",
      "10.0\n",
      "10000000000.0\n"
     ]
    }
   ],
   "source": [
    "k = 10\n",
    "print(k)\n",
    "k += 10\n",
    "print(k)\n",
    "k -= 10\n",
    "print(k)\n",
    "k *= 10\n",
    "print(k)\n",
    "k /= 10\n",
    "print(k)\n",
    "k **= 10\n",
    "print(k)"
   ]
  },
  {
   "cell_type": "markdown",
   "id": "9de0d91e",
   "metadata": {},
   "source": [
    "# Logical Operators"
   ]
  },
  {
   "cell_type": "code",
   "execution_count": 29,
   "id": "8963444f",
   "metadata": {},
   "outputs": [
    {
     "name": "stdout",
     "output_type": "stream",
     "text": [
      "True\n",
      "False\n",
      "False\n",
      "False\n"
     ]
    }
   ],
   "source": [
    "m = 1\n",
    "n = 2\n",
    "print(m<2 and n>1) \n",
    "print(m>2 and n>1)\n",
    "print(m<2 and n<1)\n",
    "print(m>2 and n<1)"
   ]
  },
  {
   "cell_type": "code",
   "execution_count": 30,
   "id": "e9080a21",
   "metadata": {},
   "outputs": [
    {
     "name": "stdout",
     "output_type": "stream",
     "text": [
      "True\n",
      "True\n",
      "True\n",
      "False\n"
     ]
    }
   ],
   "source": [
    "print(m<2 or n>1) \n",
    "print(m>2 or n>1)\n",
    "print(m<2 or n<1)\n",
    "print(m>2 or n<1)"
   ]
  },
  {
   "cell_type": "code",
   "execution_count": 31,
   "id": "1409dbf3",
   "metadata": {},
   "outputs": [
    {
     "name": "stdout",
     "output_type": "stream",
     "text": [
      "False\n",
      "False\n",
      "False\n",
      "True\n"
     ]
    }
   ],
   "source": [
    "print(not(m<2 or n>1)) \n",
    "print(not(m>2 or n>1))\n",
    "print(not(m<2 or n<1))\n",
    "print(not(m>2 or n<1))"
   ]
  },
  {
   "cell_type": "markdown",
   "id": "fa0762ab",
   "metadata": {},
   "source": [
    "# Bitwise Operators"
   ]
  },
  {
   "cell_type": "code",
   "execution_count": 32,
   "id": "b2968cbe",
   "metadata": {},
   "outputs": [],
   "source": [
    "u = 2  (0010)\n",
    "v = 1  (0001)"
   ]
  },
  {
   "cell_type": "code",
   "execution_count": 33,
   "id": "43d8b749",
   "metadata": {},
   "outputs": [
    {
     "name": "stdout",
     "output_type": "stream",
     "text": [
      "0\n"
     ]
    }
   ],
   "source": [
    "print(u & v)   "
   ]
  },
  {
   "cell_type": "code",
   "execution_count": 34,
   "id": "087cbdfd",
   "metadata": {},
   "outputs": [
    {
     "name": "stdout",
     "output_type": "stream",
     "text": [
      "3\n"
     ]
    }
   ],
   "source": [
    "print(u | v)   "
   ]
  },
  {
   "cell_type": "code",
   "execution_count": 35,
   "id": "76feddde",
   "metadata": {},
   "outputs": [
    {
     "name": "stdout",
     "output_type": "stream",
     "text": [
      "3\n"
     ]
    }
   ],
   "source": [
    "print(u ^ v)   "
   ]
  },
  {
   "cell_type": "code",
   "execution_count": 36,
   "id": "0f675d2c",
   "metadata": {},
   "outputs": [
    {
     "name": "stdout",
     "output_type": "stream",
     "text": [
      "0\n"
     ]
    }
   ],
   "source": [
    "print(u >> 2)   "
   ]
  },
  {
   "cell_type": "code",
   "execution_count": 37,
   "id": "26216caf",
   "metadata": {},
   "outputs": [
    {
     "name": "stdout",
     "output_type": "stream",
     "text": [
      "8\n"
     ]
    }
   ],
   "source": [
    "print(u << 2) "
   ]
  },
  {
   "cell_type": "markdown",
   "id": "f00a285a",
   "metadata": {},
   "source": [
    "# Input and Output"
   ]
  },
  {
   "cell_type": "code",
   "execution_count": 1,
   "id": "7f486d76",
   "metadata": {},
   "outputs": [
    {
     "name": "stdout",
     "output_type": "stream",
     "text": [
      "Enter a number -> 5\n",
      "You Entered -> 5\n"
     ]
    }
   ],
   "source": [
    "num = input('Enter a number -> ')\n",
    "print('You Entered ->', num)"
   ]
  },
  {
   "cell_type": "code",
   "execution_count": 2,
   "id": "da30e464",
   "metadata": {},
   "outputs": [
    {
     "name": "stdout",
     "output_type": "stream",
     "text": [
      "Enter a number -> 5\n",
      "You Entered -> <class 'str'>\n"
     ]
    }
   ],
   "source": [
    "num = input('Enter a number -> ')\n",
    "print('You Entered ->', type(num))"
   ]
  },
  {
   "cell_type": "code",
   "execution_count": 3,
   "id": "69a757df",
   "metadata": {},
   "outputs": [
    {
     "name": "stdout",
     "output_type": "stream",
     "text": [
      "Enter a number -> 10\n",
      "You Entered -> <class 'str'>\n"
     ]
    }
   ],
   "source": [
    "num = input('Enter a number -> ')\n",
    "print('You Entered ->', type(num))"
   ]
  },
  {
   "cell_type": "code",
   "execution_count": 4,
   "id": "01a07098",
   "metadata": {},
   "outputs": [
    {
     "name": "stdout",
     "output_type": "stream",
     "text": [
      "Enter a number -> 5\n",
      "You Entered -> <class 'int'>\n"
     ]
    }
   ],
   "source": [
    "num = int(input('Enter a number -> '))\n",
    "print('You Entered ->', type(num))"
   ]
  },
  {
   "cell_type": "code",
   "execution_count": 73,
   "id": "48b20967",
   "metadata": {},
   "outputs": [
    {
     "name": "stdout",
     "output_type": "stream",
     "text": [
      "Shridhar Mankar\n"
     ]
    }
   ],
   "source": [
    "print('Shridhar', end= ' ')\n",
    "print('Mankar')"
   ]
  },
  {
   "cell_type": "code",
   "execution_count": 74,
   "id": "c6a9a952",
   "metadata": {},
   "outputs": [
    {
     "name": "stdout",
     "output_type": "stream",
     "text": [
      "Shridhar.5.Mankar\n"
     ]
    }
   ],
   "source": [
    "print('Shridhar', 5, 'Mankar', sep= '.')"
   ]
  },
  {
   "cell_type": "code",
   "execution_count": 76,
   "id": "0d6f9ee3",
   "metadata": {},
   "outputs": [
    {
     "name": "stdout",
     "output_type": "stream",
     "text": [
      "Shridhar Mankar\n"
     ]
    }
   ],
   "source": [
    "print('Shridhar ' + 'Mankar')"
   ]
  },
  {
   "cell_type": "code",
   "execution_count": 7,
   "id": "efd2a835",
   "metadata": {},
   "outputs": [
    {
     "name": "stdout",
     "output_type": "stream",
     "text": [
      "The value of num1 is 5 and num2 is 10\n"
     ]
    }
   ],
   "source": [
    "num1 = 5\n",
    "num2 = 10\n",
    "\n",
    "print('The value of num1 is {} and num2 is {}'.format(num1,num2))"
   ]
  },
  {
   "cell_type": "markdown",
   "id": "eda1f47b",
   "metadata": {},
   "source": [
    "# If...Else"
   ]
  },
  {
   "cell_type": "code",
   "execution_count": 1,
   "id": "b51d7872",
   "metadata": {},
   "outputs": [],
   "source": [
    "var1 = 10\n",
    "var2 = 20"
   ]
  },
  {
   "cell_type": "code",
   "execution_count": 2,
   "id": "fb3fe193",
   "metadata": {},
   "outputs": [
    {
     "name": "stdout",
     "output_type": "stream",
     "text": [
      "not equal\n"
     ]
    }
   ],
   "source": [
    "if var1 != var2 :\n",
    " print('not equal')"
   ]
  },
  {
   "cell_type": "code",
   "execution_count": 5,
   "id": "c578ec9f",
   "metadata": {},
   "outputs": [
    {
     "ename": "IndentationError",
     "evalue": "expected an indented block (2402990852.py, line 2)",
     "output_type": "error",
     "traceback": [
      "\u001b[0;36m  File \u001b[0;32m\"/var/folders/m0/4t6ggwz51774ll_46v6qgz3h0000gn/T/ipykernel_868/2402990852.py\"\u001b[0;36m, line \u001b[0;32m2\u001b[0m\n\u001b[0;31m    print('not equal')\u001b[0m\n\u001b[0m    ^\u001b[0m\n\u001b[0;31mIndentationError\u001b[0m\u001b[0;31m:\u001b[0m expected an indented block\n"
     ]
    }
   ],
   "source": [
    "if var1 != var2 :\n",
    "print('not equal')"
   ]
  },
  {
   "cell_type": "code",
   "execution_count": 6,
   "id": "ad6594a3",
   "metadata": {},
   "outputs": [],
   "source": [
    "if var1 == var2 :\n",
    " print('not equal')"
   ]
  },
  {
   "cell_type": "code",
   "execution_count": 42,
   "id": "217bcedf",
   "metadata": {},
   "outputs": [
    {
     "name": "stdout",
     "output_type": "stream",
     "text": [
      "if block\n"
     ]
    }
   ],
   "source": [
    "if var1 < var2 and var1>5 :\n",
    " print('if block')"
   ]
  },
  {
   "cell_type": "code",
   "execution_count": 43,
   "id": "4df7ed15",
   "metadata": {},
   "outputs": [
    {
     "name": "stdout",
     "output_type": "stream",
     "text": [
      "if block\n"
     ]
    }
   ],
   "source": [
    "if var1 < var2 or var1<5 :\n",
    " print('if block')"
   ]
  },
  {
   "cell_type": "code",
   "execution_count": 44,
   "id": "b81a76f9",
   "metadata": {},
   "outputs": [
    {
     "name": "stdout",
     "output_type": "stream",
     "text": [
      "not equal\n"
     ]
    }
   ],
   "source": [
    "if not var1 == var2 :\n",
    " print('not equal')"
   ]
  },
  {
   "cell_type": "code",
   "execution_count": 46,
   "id": "10507d9e",
   "metadata": {},
   "outputs": [
    {
     "name": "stdout",
     "output_type": "stream",
     "text": [
      "not equal\n"
     ]
    }
   ],
   "source": [
    "if not var1 == var2 : print('not equal')"
   ]
  },
  {
   "cell_type": "code",
   "execution_count": 47,
   "id": "290c2094",
   "metadata": {},
   "outputs": [
    {
     "name": "stdout",
     "output_type": "stream",
     "text": [
      "if\n"
     ]
    }
   ],
   "source": [
    "if var1 != var2 :\n",
    " print('if')\n",
    "elif var1 == 10 :\n",
    " print('elif')"
   ]
  },
  {
   "cell_type": "code",
   "execution_count": 48,
   "id": "fa12f3b1",
   "metadata": {},
   "outputs": [
    {
     "name": "stdout",
     "output_type": "stream",
     "text": [
      "elif\n"
     ]
    }
   ],
   "source": [
    "if var1 == var2 :\n",
    " print('if')\n",
    "elif var1 == 10 :\n",
    " print('elif')"
   ]
  },
  {
   "cell_type": "code",
   "execution_count": 50,
   "id": "9df21361",
   "metadata": {},
   "outputs": [
    {
     "name": "stdout",
     "output_type": "stream",
     "text": [
      "else\n"
     ]
    }
   ],
   "source": [
    "if var1 == var2 :\n",
    " print('if')\n",
    "elif var1 == 5 :\n",
    " print('elif')\n",
    "else:\n",
    " print('else')"
   ]
  },
  {
   "cell_type": "code",
   "execution_count": 51,
   "id": "a2824d61",
   "metadata": {},
   "outputs": [
    {
     "name": "stdout",
     "output_type": "stream",
     "text": [
      "outer if\n",
      "inner if\n"
     ]
    }
   ],
   "source": [
    "if var1 != var2 :\n",
    " print('outer if')\n",
    " if var1 == 10 :\n",
    "  print('inner if')"
   ]
  },
  {
   "cell_type": "markdown",
   "id": "4cf10187",
   "metadata": {},
   "source": [
    "# Loops"
   ]
  },
  {
   "cell_type": "markdown",
   "id": "d1340ac2",
   "metadata": {},
   "source": [
    "# For Loop"
   ]
  },
  {
   "cell_type": "code",
   "execution_count": 52,
   "id": "cf78c5cd",
   "metadata": {},
   "outputs": [],
   "source": [
    "abc = (1,2,3,4,5,6,7,8,9,10)"
   ]
  },
  {
   "cell_type": "code",
   "execution_count": 53,
   "id": "e1b7a27c",
   "metadata": {},
   "outputs": [
    {
     "name": "stdout",
     "output_type": "stream",
     "text": [
      "1\n",
      "2\n",
      "3\n",
      "4\n",
      "5\n",
      "6\n",
      "7\n",
      "8\n",
      "9\n",
      "10\n"
     ]
    }
   ],
   "source": [
    "for i in abc :\n",
    " print(i)"
   ]
  },
  {
   "cell_type": "code",
   "execution_count": 56,
   "id": "f55d4e18",
   "metadata": {},
   "outputs": [
    {
     "ename": "IndentationError",
     "evalue": "expected an indented block (3880932178.py, line 2)",
     "output_type": "error",
     "traceback": [
      "\u001b[0;36m  File \u001b[0;32m\"/var/folders/m0/4t6ggwz51774ll_46v6qgz3h0000gn/T/ipykernel_3422/3880932178.py\"\u001b[0;36m, line \u001b[0;32m2\u001b[0m\n\u001b[0;31m    print(i)\u001b[0m\n\u001b[0m    ^\u001b[0m\n\u001b[0;31mIndentationError\u001b[0m\u001b[0;31m:\u001b[0m expected an indented block\n"
     ]
    }
   ],
   "source": [
    "for i in abc :\n",
    "print(i)"
   ]
  },
  {
   "cell_type": "code",
   "execution_count": 57,
   "id": "e5cfd196",
   "metadata": {},
   "outputs": [
    {
     "name": "stdout",
     "output_type": "stream",
     "text": [
      "1\n",
      "2\n",
      "3\n",
      "4\n",
      "5\n",
      "6\n",
      "7\n",
      "8\n",
      "9\n",
      "10\n"
     ]
    }
   ],
   "source": [
    "for i in abc :\n",
    "                        print(i)"
   ]
  },
  {
   "cell_type": "code",
   "execution_count": 58,
   "id": "51603ccf",
   "metadata": {},
   "outputs": [
    {
     "name": "stdout",
     "output_type": "stream",
     "text": [
      "1\n",
      "2\n",
      "3\n",
      "4\n"
     ]
    }
   ],
   "source": [
    "for i in abc :\n",
    " if i == 5 :\n",
    "    break\n",
    " print(i)"
   ]
  },
  {
   "cell_type": "code",
   "execution_count": 59,
   "id": "c1fd7123",
   "metadata": {},
   "outputs": [
    {
     "name": "stdout",
     "output_type": "stream",
     "text": [
      "1\n",
      "2\n",
      "3\n",
      "4\n",
      "6\n",
      "7\n",
      "8\n",
      "9\n",
      "10\n"
     ]
    }
   ],
   "source": [
    "for i in abc :\n",
    " if i == 5 :\n",
    "    continue\n",
    " print(i)"
   ]
  },
  {
   "cell_type": "code",
   "execution_count": 60,
   "id": "725013fa",
   "metadata": {},
   "outputs": [
    {
     "name": "stdout",
     "output_type": "stream",
     "text": [
      "s\n",
      "h\n",
      "r\n",
      "i\n",
      "d\n",
      "h\n",
      "a\n",
      "r\n"
     ]
    }
   ],
   "source": [
    "for i in 'shridhar': \n",
    " print(i)"
   ]
  },
  {
   "cell_type": "code",
   "execution_count": 61,
   "id": "fa744205",
   "metadata": {},
   "outputs": [
    {
     "name": "stdout",
     "output_type": "stream",
     "text": [
      "0\n",
      "1\n",
      "2\n",
      "3\n",
      "4\n",
      "5\n",
      "6\n",
      "7\n",
      "8\n",
      "9\n"
     ]
    }
   ],
   "source": [
    "for i in range(10): \n",
    " print(i)"
   ]
  },
  {
   "cell_type": "code",
   "execution_count": 62,
   "id": "432ecc20",
   "metadata": {},
   "outputs": [
    {
     "name": "stdout",
     "output_type": "stream",
     "text": [
      "5\n",
      "6\n",
      "7\n",
      "8\n",
      "9\n"
     ]
    }
   ],
   "source": [
    "for i in range(5,10): \n",
    " print(i)"
   ]
  },
  {
   "cell_type": "code",
   "execution_count": 63,
   "id": "388f792e",
   "metadata": {},
   "outputs": [
    {
     "name": "stdout",
     "output_type": "stream",
     "text": [
      "1\n",
      "3\n",
      "5\n",
      "7\n",
      "9\n"
     ]
    }
   ],
   "source": [
    "for i in range(1,10,2): \n",
    " print(i)"
   ]
  },
  {
   "cell_type": "code",
   "execution_count": 64,
   "id": "9321c016",
   "metadata": {},
   "outputs": [
    {
     "name": "stdout",
     "output_type": "stream",
     "text": [
      "s\n",
      "m\n",
      "a\n",
      "n\n",
      "k\n",
      "a\n",
      "r\n",
      "h\n",
      "m\n",
      "a\n",
      "n\n",
      "k\n",
      "a\n",
      "r\n",
      "r\n",
      "m\n",
      "a\n",
      "n\n",
      "k\n",
      "a\n",
      "r\n",
      "i\n",
      "m\n",
      "a\n",
      "n\n",
      "k\n",
      "a\n",
      "r\n",
      "d\n",
      "m\n",
      "a\n",
      "n\n",
      "k\n",
      "a\n",
      "r\n",
      "h\n",
      "m\n",
      "a\n",
      "n\n",
      "k\n",
      "a\n",
      "r\n",
      "a\n",
      "m\n",
      "a\n",
      "n\n",
      "k\n",
      "a\n",
      "r\n",
      "r\n",
      "m\n",
      "a\n",
      "n\n",
      "k\n",
      "a\n",
      "r\n"
     ]
    }
   ],
   "source": [
    "for i in 'shridhar': \n",
    " print(i)\n",
    " for j in 'mankar':\n",
    "    print(j)"
   ]
  },
  {
   "cell_type": "markdown",
   "id": "0b678149",
   "metadata": {},
   "source": [
    "# While Loop"
   ]
  },
  {
   "cell_type": "code",
   "execution_count": 68,
   "id": "471dd3b0",
   "metadata": {},
   "outputs": [
    {
     "name": "stdout",
     "output_type": "stream",
     "text": [
      "1\n",
      "2\n",
      "3\n",
      "4\n",
      "5\n",
      "6\n",
      "7\n",
      "8\n",
      "9\n"
     ]
    }
   ],
   "source": [
    "xyz = 1\n",
    "while xyz < 10:\n",
    "  print(xyz)\n",
    "  xyz += 1"
   ]
  },
  {
   "cell_type": "code",
   "execution_count": 69,
   "id": "366c1c21",
   "metadata": {},
   "outputs": [
    {
     "name": "stdout",
     "output_type": "stream",
     "text": [
      "1\n",
      "3\n",
      "5\n",
      "7\n",
      "9\n"
     ]
    }
   ],
   "source": [
    "xyz = 1\n",
    "while xyz < 10:\n",
    "  print(xyz)\n",
    "  xyz += 2"
   ]
  },
  {
   "cell_type": "code",
   "execution_count": 70,
   "id": "012029a1",
   "metadata": {},
   "outputs": [
    {
     "name": "stdout",
     "output_type": "stream",
     "text": [
      "2\n",
      "3\n",
      "4\n",
      "5\n"
     ]
    }
   ],
   "source": [
    "xyz = 1\n",
    "while xyz < 10:\n",
    " if xyz==5:\n",
    "  break\n",
    " xyz += 1\n",
    " print(xyz)"
   ]
  },
  {
   "cell_type": "code",
   "execution_count": 72,
   "id": "919ecc35",
   "metadata": {},
   "outputs": [
    {
     "name": "stdout",
     "output_type": "stream",
     "text": [
      "2\n",
      "3\n",
      "4\n",
      "6\n",
      "7\n",
      "8\n",
      "9\n",
      "10\n"
     ]
    }
   ],
   "source": [
    "xyz = 1\n",
    "while xyz < 10:\n",
    "  xyz += 1\n",
    "  if xyz == 5:\n",
    "    continue\n",
    "  print(xyz)"
   ]
  },
  {
   "cell_type": "code",
   "execution_count": 73,
   "id": "14518dba",
   "metadata": {},
   "outputs": [
    {
     "name": "stdout",
     "output_type": "stream",
     "text": [
      "x-> 1 y-> 1 x + y -> 2\n",
      "x-> 1 y-> 2 x + y -> 3\n",
      "x-> 1 y-> 3 x + y -> 4\n",
      "x-> 1 y-> 4 x + y -> 5\n",
      "\n",
      "\n",
      "x-> 2 y-> 1 x + y -> 3\n",
      "x-> 2 y-> 2 x + y -> 4\n",
      "x-> 2 y-> 3 x + y -> 5\n",
      "x-> 2 y-> 4 x + y -> 6\n",
      "\n",
      "\n",
      "x-> 3 y-> 1 x + y -> 4\n",
      "x-> 3 y-> 2 x + y -> 5\n",
      "x-> 3 y-> 3 x + y -> 6\n",
      "x-> 3 y-> 4 x + y -> 7\n",
      "\n",
      "\n",
      "x-> 4 y-> 1 x + y -> 5\n",
      "x-> 4 y-> 2 x + y -> 6\n",
      "x-> 4 y-> 3 x + y -> 7\n",
      "x-> 4 y-> 4 x + y -> 8\n",
      "\n",
      "\n"
     ]
    }
   ],
   "source": [
    "x = 1\n",
    "while x < 5 :\n",
    "    y = 1\n",
    "    while  y < 5 :\n",
    "        print('x->',x,'y->',y,'x + y ->',x+y)\n",
    "        y += 1\n",
    "    print(\"\\n\")\n",
    "    x += 1"
   ]
  },
  {
   "cell_type": "markdown",
   "id": "0de7d7c7",
   "metadata": {},
   "source": [
    "# List"
   ]
  },
  {
   "cell_type": "code",
   "execution_count": 7,
   "id": "df1b852b",
   "metadata": {},
   "outputs": [],
   "source": [
    "l1 = [1,2,3,4,5]\n",
    "l2 = ['one','two','three']\n",
    "l3 = [True, False]\n",
    "l4 = [1.1,2.2,3.3,4.4,5.5]"
   ]
  },
  {
   "cell_type": "code",
   "execution_count": 75,
   "id": "51663f31",
   "metadata": {},
   "outputs": [
    {
     "name": "stdout",
     "output_type": "stream",
     "text": [
      "<class 'list'>\n",
      "<class 'list'>\n",
      "<class 'list'>\n",
      "<class 'list'>\n"
     ]
    }
   ],
   "source": [
    "print(type(l1))\n",
    "print(type(l2))\n",
    "print(type(l3))\n",
    "print(type(l4))"
   ]
  },
  {
   "cell_type": "code",
   "execution_count": 76,
   "id": "1488fdba",
   "metadata": {},
   "outputs": [
    {
     "name": "stdout",
     "output_type": "stream",
     "text": [
      "1\n",
      "2\n",
      "3\n",
      "4\n",
      "5\n"
     ]
    }
   ],
   "source": [
    "print(l1[0])\n",
    "print(l1[1])\n",
    "print(l1[2])\n",
    "print(l1[3])\n",
    "print(l1[4])"
   ]
  },
  {
   "cell_type": "code",
   "execution_count": 77,
   "id": "08c9bafe",
   "metadata": {},
   "outputs": [
    {
     "name": "stdout",
     "output_type": "stream",
     "text": [
      "one\n",
      "two\n",
      "three\n",
      "True\n",
      "False\n"
     ]
    }
   ],
   "source": [
    "print(l2[0])\n",
    "print(l2[1])\n",
    "print(l2[2])\n",
    "print(l3[0])\n",
    "print(l3[1])"
   ]
  },
  {
   "cell_type": "code",
   "execution_count": 78,
   "id": "429579f9",
   "metadata": {},
   "outputs": [
    {
     "ename": "IndexError",
     "evalue": "list index out of range",
     "output_type": "error",
     "traceback": [
      "\u001b[0;31m---------------------------------------------------------------------------\u001b[0m",
      "\u001b[0;31mIndexError\u001b[0m                                Traceback (most recent call last)",
      "\u001b[0;32m/var/folders/m0/4t6ggwz51774ll_46v6qgz3h0000gn/T/ipykernel_3422/566619758.py\u001b[0m in \u001b[0;36m<module>\u001b[0;34m\u001b[0m\n\u001b[0;32m----> 1\u001b[0;31m \u001b[0mprint\u001b[0m\u001b[0;34m(\u001b[0m\u001b[0ml3\u001b[0m\u001b[0;34m[\u001b[0m\u001b[0;36m2\u001b[0m\u001b[0;34m]\u001b[0m\u001b[0;34m)\u001b[0m\u001b[0;34m\u001b[0m\u001b[0;34m\u001b[0m\u001b[0m\n\u001b[0m",
      "\u001b[0;31mIndexError\u001b[0m: list index out of range"
     ]
    }
   ],
   "source": [
    "print(l3[2])"
   ]
  },
  {
   "cell_type": "code",
   "execution_count": 79,
   "id": "8a228757",
   "metadata": {},
   "outputs": [
    {
     "name": "stdout",
     "output_type": "stream",
     "text": [
      "5\n",
      "4\n",
      "3\n",
      "2\n",
      "1\n"
     ]
    }
   ],
   "source": [
    "print(l1[-1])\n",
    "print(l1[-2])\n",
    "print(l1[-3])\n",
    "print(l1[-4])\n",
    "print(l1[-5])"
   ]
  },
  {
   "cell_type": "code",
   "execution_count": 81,
   "id": "28babd2f",
   "metadata": {},
   "outputs": [],
   "source": [
    "l1[4] = 6"
   ]
  },
  {
   "cell_type": "code",
   "execution_count": 82,
   "id": "7c113a8e",
   "metadata": {},
   "outputs": [
    {
     "data": {
      "text/plain": [
       "[1, 2, 3, 4, 6]"
      ]
     },
     "execution_count": 82,
     "metadata": {},
     "output_type": "execute_result"
    }
   ],
   "source": [
    "l1"
   ]
  },
  {
   "cell_type": "code",
   "execution_count": 87,
   "id": "1d8dee1d",
   "metadata": {},
   "outputs": [
    {
     "data": {
      "text/plain": [
       "[1, 2, 3, 4, 6, 7]"
      ]
     },
     "execution_count": 87,
     "metadata": {},
     "output_type": "execute_result"
    }
   ],
   "source": [
    "l1.append(7)\n",
    "l1"
   ]
  },
  {
   "cell_type": "code",
   "execution_count": 89,
   "id": "864801d8",
   "metadata": {},
   "outputs": [
    {
     "data": {
      "text/plain": [
       "[1, 2, 3, 4, 5, 6, 7]"
      ]
     },
     "execution_count": 89,
     "metadata": {},
     "output_type": "execute_result"
    }
   ],
   "source": [
    "l1.insert(4,5)\n",
    "l1"
   ]
  },
  {
   "cell_type": "code",
   "execution_count": 90,
   "id": "ad13ab00",
   "metadata": {},
   "outputs": [],
   "source": [
    "l2.extend(l1)"
   ]
  },
  {
   "cell_type": "code",
   "execution_count": 91,
   "id": "6ad4f425",
   "metadata": {},
   "outputs": [
    {
     "data": {
      "text/plain": [
       "['one', 'two', 'three', 1, 2, 3, 4, 5, 6, 7]"
      ]
     },
     "execution_count": 91,
     "metadata": {},
     "output_type": "execute_result"
    }
   ],
   "source": [
    "l2"
   ]
  },
  {
   "cell_type": "code",
   "execution_count": 92,
   "id": "cd2adecd",
   "metadata": {},
   "outputs": [
    {
     "data": {
      "text/plain": [
       "[1, 2, 3, 4, 5, 6]"
      ]
     },
     "execution_count": 92,
     "metadata": {},
     "output_type": "execute_result"
    }
   ],
   "source": [
    "l1.remove(7)\n",
    "l1"
   ]
  },
  {
   "cell_type": "code",
   "execution_count": 93,
   "id": "279fa9e7",
   "metadata": {},
   "outputs": [
    {
     "data": {
      "text/plain": [
       "[1, 2, 3, 4, 5]"
      ]
     },
     "execution_count": 93,
     "metadata": {},
     "output_type": "execute_result"
    }
   ],
   "source": [
    "l1.pop()\n",
    "l1"
   ]
  },
  {
   "cell_type": "code",
   "execution_count": 94,
   "id": "ac59c425",
   "metadata": {},
   "outputs": [
    {
     "data": {
      "text/plain": [
       "[1, 2, 4, 5]"
      ]
     },
     "execution_count": 94,
     "metadata": {},
     "output_type": "execute_result"
    }
   ],
   "source": [
    "l1.pop(2)\n",
    "l1"
   ]
  },
  {
   "cell_type": "code",
   "execution_count": 95,
   "id": "5dcc1c4c",
   "metadata": {},
   "outputs": [
    {
     "data": {
      "text/plain": [
       "[5, 4, 2, 1]"
      ]
     },
     "execution_count": 95,
     "metadata": {},
     "output_type": "execute_result"
    }
   ],
   "source": [
    "l1.sort(reverse=True)\n",
    "l1"
   ]
  },
  {
   "cell_type": "code",
   "execution_count": 96,
   "id": "f998d0a8",
   "metadata": {},
   "outputs": [
    {
     "data": {
      "text/plain": [
       "[5, 4, 2, 1]"
      ]
     },
     "execution_count": 96,
     "metadata": {},
     "output_type": "execute_result"
    }
   ],
   "source": [
    "l5 = l1.copy()\n",
    "l5"
   ]
  },
  {
   "cell_type": "code",
   "execution_count": 98,
   "id": "23979c63",
   "metadata": {},
   "outputs": [
    {
     "data": {
      "text/plain": [
       "[]"
      ]
     },
     "execution_count": 98,
     "metadata": {},
     "output_type": "execute_result"
    }
   ],
   "source": [
    "l1.clear()\n",
    "l1"
   ]
  },
  {
   "cell_type": "code",
   "execution_count": 99,
   "id": "f94fc5ce",
   "metadata": {},
   "outputs": [
    {
     "data": {
      "text/plain": [
       "[5, 5, 5, 5, 5, 5]"
      ]
     },
     "execution_count": 99,
     "metadata": {},
     "output_type": "execute_result"
    }
   ],
   "source": [
    "l1.append(5)\n",
    "l1.append(5)\n",
    "l1.append(5)\n",
    "l1.append(5)\n",
    "l1.append(5)\n",
    "l1.append(5)\n",
    "l1"
   ]
  },
  {
   "cell_type": "code",
   "execution_count": 8,
   "id": "cd6608d0",
   "metadata": {},
   "outputs": [],
   "source": [
    "del l1"
   ]
  },
  {
   "cell_type": "code",
   "execution_count": 9,
   "id": "37f2dc45",
   "metadata": {},
   "outputs": [
    {
     "ename": "NameError",
     "evalue": "name 'l1' is not defined",
     "output_type": "error",
     "traceback": [
      "\u001b[0;31m---------------------------------------------------------------------------\u001b[0m",
      "\u001b[0;31mNameError\u001b[0m                                 Traceback (most recent call last)",
      "\u001b[0;32m/var/folders/m0/4t6ggwz51774ll_46v6qgz3h0000gn/T/ipykernel_868/2585568370.py\u001b[0m in \u001b[0;36m<module>\u001b[0;34m\u001b[0m\n\u001b[0;32m----> 1\u001b[0;31m \u001b[0ml1\u001b[0m\u001b[0;34m\u001b[0m\u001b[0;34m\u001b[0m\u001b[0m\n\u001b[0m",
      "\u001b[0;31mNameError\u001b[0m: name 'l1' is not defined"
     ]
    }
   ],
   "source": [
    "l1"
   ]
  },
  {
   "cell_type": "markdown",
   "id": "21c90382",
   "metadata": {},
   "source": [
    "# Tuple"
   ]
  },
  {
   "cell_type": "code",
   "execution_count": 10,
   "id": "49d88978",
   "metadata": {},
   "outputs": [],
   "source": [
    "t1 = (1,2,3,4,5)\n",
    "t2 = ('one','two','three')\n",
    "t3 = (True, False)\n",
    "t4 = (1.1,2.2,3.3,4.4,5.5)"
   ]
  },
  {
   "cell_type": "code",
   "execution_count": 11,
   "id": "ca3cb760",
   "metadata": {},
   "outputs": [
    {
     "name": "stdout",
     "output_type": "stream",
     "text": [
      "<class 'tuple'>\n",
      "<class 'tuple'>\n",
      "<class 'tuple'>\n",
      "<class 'tuple'>\n"
     ]
    }
   ],
   "source": [
    "print(type(t1))\n",
    "print(type(t2))\n",
    "print(type(t3))\n",
    "print(type(t4))"
   ]
  },
  {
   "cell_type": "code",
   "execution_count": 12,
   "id": "5a58e562",
   "metadata": {},
   "outputs": [
    {
     "name": "stdout",
     "output_type": "stream",
     "text": [
      "1\n",
      "2\n",
      "3\n",
      "4\n",
      "5\n"
     ]
    }
   ],
   "source": [
    "print(t1[0])\n",
    "print(t1[1])\n",
    "print(t1[2])\n",
    "print(t1[3])\n",
    "print(t1[4])"
   ]
  },
  {
   "cell_type": "code",
   "execution_count": 13,
   "id": "47be55f0",
   "metadata": {},
   "outputs": [
    {
     "name": "stdout",
     "output_type": "stream",
     "text": [
      "5\n",
      "4\n",
      "3\n",
      "2\n",
      "1\n"
     ]
    }
   ],
   "source": [
    "print(t1[-1])\n",
    "print(t1[-2])\n",
    "print(t1[-3])\n",
    "print(t1[-4])\n",
    "print(t1[-5])"
   ]
  },
  {
   "cell_type": "code",
   "execution_count": 19,
   "id": "9bf939c6",
   "metadata": {},
   "outputs": [
    {
     "data": {
      "text/plain": [
       "(1, 1, 1, 1, 1, 1, 1, 1, 1, 1)"
      ]
     },
     "execution_count": 19,
     "metadata": {},
     "output_type": "execute_result"
    }
   ],
   "source": [
    "t5 = (1,1,1,1,1,1,1,1,1,1)\n",
    "t5"
   ]
  },
  {
   "cell_type": "code",
   "execution_count": 15,
   "id": "19196e52",
   "metadata": {},
   "outputs": [
    {
     "name": "stdout",
     "output_type": "stream",
     "text": [
      "<class 'tuple'>\n"
     ]
    },
    {
     "data": {
      "text/plain": [
       "('abc',)"
      ]
     },
     "execution_count": 15,
     "metadata": {},
     "output_type": "execute_result"
    }
   ],
   "source": [
    "t6 = (\"abc\",)\n",
    "print(type(t6))\n",
    "t6"
   ]
  },
  {
   "cell_type": "code",
   "execution_count": 17,
   "id": "1a3c1bf5",
   "metadata": {},
   "outputs": [
    {
     "ename": "TypeError",
     "evalue": "'tuple' object does not support item assignment",
     "output_type": "error",
     "traceback": [
      "\u001b[0;31m---------------------------------------------------------------------------\u001b[0m",
      "\u001b[0;31mTypeError\u001b[0m                                 Traceback (most recent call last)",
      "\u001b[0;32m/var/folders/m0/4t6ggwz51774ll_46v6qgz3h0000gn/T/ipykernel_868/1500020281.py\u001b[0m in \u001b[0;36m<module>\u001b[0;34m\u001b[0m\n\u001b[0;32m----> 1\u001b[0;31m \u001b[0mt1\u001b[0m\u001b[0;34m[\u001b[0m\u001b[0;36m2\u001b[0m\u001b[0;34m]\u001b[0m \u001b[0;34m=\u001b[0m \u001b[0;36m7\u001b[0m\u001b[0;34m\u001b[0m\u001b[0;34m\u001b[0m\u001b[0m\n\u001b[0m\u001b[1;32m      2\u001b[0m \u001b[0mt1\u001b[0m\u001b[0;34m\u001b[0m\u001b[0;34m\u001b[0m\u001b[0m\n",
      "\u001b[0;31mTypeError\u001b[0m: 'tuple' object does not support item assignment"
     ]
    }
   ],
   "source": [
    "t1[2] = 7\n",
    "t1"
   ]
  },
  {
   "cell_type": "code",
   "execution_count": 18,
   "id": "31991a57",
   "metadata": {},
   "outputs": [
    {
     "ename": "AttributeError",
     "evalue": "'tuple' object has no attribute 'append'",
     "output_type": "error",
     "traceback": [
      "\u001b[0;31m---------------------------------------------------------------------------\u001b[0m",
      "\u001b[0;31mAttributeError\u001b[0m                            Traceback (most recent call last)",
      "\u001b[0;32m/var/folders/m0/4t6ggwz51774ll_46v6qgz3h0000gn/T/ipykernel_868/3382322435.py\u001b[0m in \u001b[0;36m<module>\u001b[0;34m\u001b[0m\n\u001b[0;32m----> 1\u001b[0;31m \u001b[0mt1\u001b[0m\u001b[0;34m.\u001b[0m\u001b[0mappend\u001b[0m\u001b[0;34m(\u001b[0m\u001b[0;36m7\u001b[0m\u001b[0;34m)\u001b[0m\u001b[0;34m\u001b[0m\u001b[0;34m\u001b[0m\u001b[0m\n\u001b[0m",
      "\u001b[0;31mAttributeError\u001b[0m: 'tuple' object has no attribute 'append'"
     ]
    }
   ],
   "source": [
    "t1.append(7)"
   ]
  },
  {
   "cell_type": "code",
   "execution_count": 16,
   "id": "c8fb8669",
   "metadata": {},
   "outputs": [
    {
     "data": {
      "text/plain": [
       "(1, 2, 3, 4, 5, 6)"
      ]
     },
     "execution_count": 16,
     "metadata": {},
     "output_type": "execute_result"
    }
   ],
   "source": [
    "tuplelist = list(t1)\n",
    "tuplelist.append(6)\n",
    "t1 = tuple(tuplelist)\n",
    "t1"
   ]
  },
  {
   "cell_type": "code",
   "execution_count": 8,
   "id": "d21d22ac",
   "metadata": {},
   "outputs": [
    {
     "data": {
      "text/plain": [
       "(1, 2, 3, 4, 5)"
      ]
     },
     "execution_count": 8,
     "metadata": {},
     "output_type": "execute_result"
    }
   ],
   "source": [
    "tuplelist = list(t1)\n",
    "tuplelist.remove(6)\n",
    "t1 = tuple(tuplelist)\n",
    "t1"
   ]
  },
  {
   "cell_type": "code",
   "execution_count": 20,
   "id": "a33a71e5",
   "metadata": {},
   "outputs": [
    {
     "data": {
      "text/plain": [
       "10"
      ]
     },
     "execution_count": 20,
     "metadata": {},
     "output_type": "execute_result"
    }
   ],
   "source": [
    "t5.count(1)"
   ]
  },
  {
   "cell_type": "code",
   "execution_count": 10,
   "id": "6d3475d4",
   "metadata": {},
   "outputs": [
    {
     "ename": "AttributeError",
     "evalue": "'tuple' object has no attribute 'clear'",
     "output_type": "error",
     "traceback": [
      "\u001b[0;31m---------------------------------------------------------------------------\u001b[0m",
      "\u001b[0;31mAttributeError\u001b[0m                            Traceback (most recent call last)",
      "\u001b[0;32m/var/folders/m0/4t6ggwz51774ll_46v6qgz3h0000gn/T/ipykernel_4909/2186350739.py\u001b[0m in \u001b[0;36m<module>\u001b[0;34m\u001b[0m\n\u001b[0;32m----> 1\u001b[0;31m \u001b[0mt1\u001b[0m\u001b[0;34m.\u001b[0m\u001b[0mclear\u001b[0m\u001b[0;34m(\u001b[0m\u001b[0;34m)\u001b[0m\u001b[0;34m\u001b[0m\u001b[0;34m\u001b[0m\u001b[0m\n\u001b[0m",
      "\u001b[0;31mAttributeError\u001b[0m: 'tuple' object has no attribute 'clear'"
     ]
    }
   ],
   "source": [
    "t1.clear()"
   ]
  },
  {
   "cell_type": "code",
   "execution_count": 21,
   "id": "d48dd8a1",
   "metadata": {},
   "outputs": [
    {
     "data": {
      "text/plain": [
       "()"
      ]
     },
     "execution_count": 21,
     "metadata": {},
     "output_type": "execute_result"
    }
   ],
   "source": [
    "tuplelist = list(t1)\n",
    "tuplelist.clear()\n",
    "t1 = tuple(tuplelist)\n",
    "t1"
   ]
  },
  {
   "cell_type": "code",
   "execution_count": 11,
   "id": "15fde1ac",
   "metadata": {},
   "outputs": [],
   "source": [
    "del t1"
   ]
  },
  {
   "cell_type": "code",
   "execution_count": 12,
   "id": "741140dd",
   "metadata": {},
   "outputs": [
    {
     "ename": "NameError",
     "evalue": "name 't1' is not defined",
     "output_type": "error",
     "traceback": [
      "\u001b[0;31m---------------------------------------------------------------------------\u001b[0m",
      "\u001b[0;31mNameError\u001b[0m                                 Traceback (most recent call last)",
      "\u001b[0;32m/var/folders/m0/4t6ggwz51774ll_46v6qgz3h0000gn/T/ipykernel_4909/2524635252.py\u001b[0m in \u001b[0;36m<module>\u001b[0;34m\u001b[0m\n\u001b[0;32m----> 1\u001b[0;31m \u001b[0mt1\u001b[0m\u001b[0;34m\u001b[0m\u001b[0;34m\u001b[0m\u001b[0m\n\u001b[0m",
      "\u001b[0;31mNameError\u001b[0m: name 't1' is not defined"
     ]
    }
   ],
   "source": [
    "t1"
   ]
  },
  {
   "cell_type": "markdown",
   "id": "13317505",
   "metadata": {},
   "source": [
    "# Set"
   ]
  },
  {
   "cell_type": "code",
   "execution_count": 13,
   "id": "57c6ce03",
   "metadata": {},
   "outputs": [],
   "source": [
    "s1 = {1,2,3,4,5}\n",
    "s2 = {'one','two','three'}\n",
    "s3 = {True, False}\n",
    "s4 = {1.1,2.2,3.3,4.4,5.5}"
   ]
  },
  {
   "cell_type": "code",
   "execution_count": 14,
   "id": "4faea10e",
   "metadata": {},
   "outputs": [
    {
     "name": "stdout",
     "output_type": "stream",
     "text": [
      "<class 'set'>\n",
      "<class 'set'>\n",
      "<class 'set'>\n",
      "<class 'set'>\n"
     ]
    }
   ],
   "source": [
    "print(type(s1))\n",
    "print(type(s2))\n",
    "print(type(s3))\n",
    "print(type(s4))"
   ]
  },
  {
   "cell_type": "code",
   "execution_count": 15,
   "id": "585f7af7",
   "metadata": {},
   "outputs": [
    {
     "ename": "TypeError",
     "evalue": "'set' object is not subscriptable",
     "output_type": "error",
     "traceback": [
      "\u001b[0;31m---------------------------------------------------------------------------\u001b[0m",
      "\u001b[0;31mTypeError\u001b[0m                                 Traceback (most recent call last)",
      "\u001b[0;32m/var/folders/m0/4t6ggwz51774ll_46v6qgz3h0000gn/T/ipykernel_4909/2808656502.py\u001b[0m in \u001b[0;36m<module>\u001b[0;34m\u001b[0m\n\u001b[0;32m----> 1\u001b[0;31m \u001b[0mprint\u001b[0m\u001b[0;34m(\u001b[0m\u001b[0ms1\u001b[0m\u001b[0;34m[\u001b[0m\u001b[0;36m0\u001b[0m\u001b[0;34m]\u001b[0m\u001b[0;34m)\u001b[0m\u001b[0;34m\u001b[0m\u001b[0;34m\u001b[0m\u001b[0m\n\u001b[0m",
      "\u001b[0;31mTypeError\u001b[0m: 'set' object is not subscriptable"
     ]
    }
   ],
   "source": [
    "print(s1[0])"
   ]
  },
  {
   "cell_type": "code",
   "execution_count": 17,
   "id": "0d0976c4",
   "metadata": {},
   "outputs": [
    {
     "data": {
      "text/plain": [
       "{'one', 'three', 'two'}"
      ]
     },
     "execution_count": 17,
     "metadata": {},
     "output_type": "execute_result"
    }
   ],
   "source": [
    "s2"
   ]
  },
  {
   "cell_type": "code",
   "execution_count": 18,
   "id": "20c28a83",
   "metadata": {},
   "outputs": [
    {
     "data": {
      "text/plain": [
       "{1, 2, 3, 4, 5}"
      ]
     },
     "execution_count": 18,
     "metadata": {},
     "output_type": "execute_result"
    }
   ],
   "source": [
    "sett = {1,1,2,2,3,3,4,4,5,5}\n",
    "sett"
   ]
  },
  {
   "cell_type": "code",
   "execution_count": 20,
   "id": "18afb45e",
   "metadata": {},
   "outputs": [
    {
     "name": "stdout",
     "output_type": "stream",
     "text": [
      "True\n",
      "False\n"
     ]
    }
   ],
   "source": [
    "print(5 in s1)\n",
    "print(15 in s1)"
   ]
  },
  {
   "cell_type": "code",
   "execution_count": 21,
   "id": "c71b93ea",
   "metadata": {},
   "outputs": [
    {
     "data": {
      "text/plain": [
       "{1, 2, 3, 4, 5, 6}"
      ]
     },
     "execution_count": 21,
     "metadata": {},
     "output_type": "execute_result"
    }
   ],
   "source": [
    "s1.add(6)\n",
    "s1"
   ]
  },
  {
   "cell_type": "code",
   "execution_count": 22,
   "id": "c128826d",
   "metadata": {},
   "outputs": [],
   "source": [
    "s2.add('four')"
   ]
  },
  {
   "cell_type": "code",
   "execution_count": 23,
   "id": "cbf6409d",
   "metadata": {},
   "outputs": [
    {
     "data": {
      "text/plain": [
       "{'four', 'one', 'three', 'two'}"
      ]
     },
     "execution_count": 23,
     "metadata": {},
     "output_type": "execute_result"
    }
   ],
   "source": [
    "s2"
   ]
  },
  {
   "cell_type": "code",
   "execution_count": 24,
   "id": "5fb9f23d",
   "metadata": {},
   "outputs": [
    {
     "data": {
      "text/plain": [
       "{'five', 'four', 'one', 'three', 'two'}"
      ]
     },
     "execution_count": 24,
     "metadata": {},
     "output_type": "execute_result"
    }
   ],
   "source": [
    "s2.add('five')\n",
    "s2"
   ]
  },
  {
   "cell_type": "code",
   "execution_count": 25,
   "id": "edb6e7e6",
   "metadata": {},
   "outputs": [
    {
     "data": {
      "text/plain": [
       "{'five', 'four', 'one', 'six', 'three', 'two'}"
      ]
     },
     "execution_count": 25,
     "metadata": {},
     "output_type": "execute_result"
    }
   ],
   "source": [
    "s2.add('six')\n",
    "s2"
   ]
  },
  {
   "cell_type": "code",
   "execution_count": 26,
   "id": "112040a3",
   "metadata": {},
   "outputs": [
    {
     "data": {
      "text/plain": [
       "{'five', 'four', 'one', 'three', 'two'}"
      ]
     },
     "execution_count": 26,
     "metadata": {},
     "output_type": "execute_result"
    }
   ],
   "source": [
    "s2.remove('six')\n",
    "s2"
   ]
  },
  {
   "cell_type": "code",
   "execution_count": 27,
   "id": "4187471c",
   "metadata": {},
   "outputs": [
    {
     "ename": "KeyError",
     "evalue": "'six'",
     "output_type": "error",
     "traceback": [
      "\u001b[0;31m---------------------------------------------------------------------------\u001b[0m",
      "\u001b[0;31mKeyError\u001b[0m                                  Traceback (most recent call last)",
      "\u001b[0;32m/var/folders/m0/4t6ggwz51774ll_46v6qgz3h0000gn/T/ipykernel_4909/3690196277.py\u001b[0m in \u001b[0;36m<module>\u001b[0;34m\u001b[0m\n\u001b[0;32m----> 1\u001b[0;31m \u001b[0ms2\u001b[0m\u001b[0;34m.\u001b[0m\u001b[0mremove\u001b[0m\u001b[0;34m(\u001b[0m\u001b[0;34m'six'\u001b[0m\u001b[0;34m)\u001b[0m\u001b[0;34m\u001b[0m\u001b[0;34m\u001b[0m\u001b[0m\n\u001b[0m",
      "\u001b[0;31mKeyError\u001b[0m: 'six'"
     ]
    }
   ],
   "source": [
    "s2.remove('six')"
   ]
  },
  {
   "cell_type": "code",
   "execution_count": 28,
   "id": "93447c6d",
   "metadata": {},
   "outputs": [],
   "source": [
    "s2.discard('six')"
   ]
  },
  {
   "cell_type": "code",
   "execution_count": 29,
   "id": "dd9d367f",
   "metadata": {},
   "outputs": [
    {
     "data": {
      "text/plain": [
       "'five'"
      ]
     },
     "execution_count": 29,
     "metadata": {},
     "output_type": "execute_result"
    }
   ],
   "source": [
    "s2.pop()"
   ]
  },
  {
   "cell_type": "code",
   "execution_count": 30,
   "id": "e6b90151",
   "metadata": {},
   "outputs": [
    {
     "data": {
      "text/plain": [
       "{False, 1, 2, 3, 4, 5, 6}"
      ]
     },
     "execution_count": 30,
     "metadata": {},
     "output_type": "execute_result"
    }
   ],
   "source": [
    "s5 = s1.union(s3)\n",
    "s5"
   ]
  },
  {
   "cell_type": "code",
   "execution_count": 31,
   "id": "fe080d3d",
   "metadata": {},
   "outputs": [
    {
     "data": {
      "text/plain": [
       "{False, True, 2, 3, 4, 5, 6}"
      ]
     },
     "execution_count": 31,
     "metadata": {},
     "output_type": "execute_result"
    }
   ],
   "source": [
    "s6 = s3.union(s1)\n",
    "s6"
   ]
  },
  {
   "cell_type": "code",
   "execution_count": 32,
   "id": "686c6f7c",
   "metadata": {},
   "outputs": [],
   "source": [
    "s6.update(s4)"
   ]
  },
  {
   "cell_type": "code",
   "execution_count": 33,
   "id": "155dd6f1",
   "metadata": {},
   "outputs": [
    {
     "data": {
      "text/plain": [
       "{False, True, 1.1, 2, 2.2, 3, 3.3, 4, 4.4, 5, 5.5, 6}"
      ]
     },
     "execution_count": 33,
     "metadata": {},
     "output_type": "execute_result"
    }
   ],
   "source": [
    "s6"
   ]
  },
  {
   "cell_type": "code",
   "execution_count": 34,
   "id": "b5e3d0ce",
   "metadata": {},
   "outputs": [
    {
     "data": {
      "text/plain": [
       "{False, True, 2, 3, 4, 5, 6}"
      ]
     },
     "execution_count": 34,
     "metadata": {},
     "output_type": "execute_result"
    }
   ],
   "source": [
    "s6.difference(s4)"
   ]
  },
  {
   "cell_type": "code",
   "execution_count": 35,
   "id": "47d50922",
   "metadata": {},
   "outputs": [
    {
     "data": {
      "text/plain": [
       "{1.1, 2.2, 3.3, 4.4, 5.5}"
      ]
     },
     "execution_count": 35,
     "metadata": {},
     "output_type": "execute_result"
    }
   ],
   "source": [
    "s6.intersection(s4)"
   ]
  },
  {
   "cell_type": "code",
   "execution_count": 37,
   "id": "53464e6e",
   "metadata": {},
   "outputs": [
    {
     "data": {
      "text/plain": [
       "set()"
      ]
     },
     "execution_count": 37,
     "metadata": {},
     "output_type": "execute_result"
    }
   ],
   "source": [
    "s6.clear()\n",
    "s6"
   ]
  },
  {
   "cell_type": "code",
   "execution_count": 38,
   "id": "d60ac4fe",
   "metadata": {},
   "outputs": [
    {
     "ename": "NameError",
     "evalue": "name 's6' is not defined",
     "output_type": "error",
     "traceback": [
      "\u001b[0;31m---------------------------------------------------------------------------\u001b[0m",
      "\u001b[0;31mNameError\u001b[0m                                 Traceback (most recent call last)",
      "\u001b[0;32m/var/folders/m0/4t6ggwz51774ll_46v6qgz3h0000gn/T/ipykernel_4909/3749971155.py\u001b[0m in \u001b[0;36m<module>\u001b[0;34m\u001b[0m\n\u001b[1;32m      1\u001b[0m \u001b[0;32mdel\u001b[0m \u001b[0ms6\u001b[0m\u001b[0;34m\u001b[0m\u001b[0;34m\u001b[0m\u001b[0m\n\u001b[0;32m----> 2\u001b[0;31m \u001b[0ms6\u001b[0m\u001b[0;34m\u001b[0m\u001b[0;34m\u001b[0m\u001b[0m\n\u001b[0m",
      "\u001b[0;31mNameError\u001b[0m: name 's6' is not defined"
     ]
    }
   ],
   "source": [
    "del s6\n",
    "s6"
   ]
  },
  {
   "cell_type": "markdown",
   "id": "89fbae30",
   "metadata": {},
   "source": [
    "# Dictionary"
   ]
  },
  {
   "cell_type": "code",
   "execution_count": 1,
   "id": "f2167bf6",
   "metadata": {},
   "outputs": [],
   "source": [
    "d1 = {\n",
    "  \"name\"  : \"Shridhar\",\n",
    "  \"rollno\": 25\n",
    "}"
   ]
  },
  {
   "cell_type": "code",
   "execution_count": 2,
   "id": "db1cc6bd",
   "metadata": {},
   "outputs": [
    {
     "data": {
      "text/plain": [
       "{'name': 'Shridhar', 'rollno': 25}"
      ]
     },
     "execution_count": 2,
     "metadata": {},
     "output_type": "execute_result"
    }
   ],
   "source": [
    "d1"
   ]
  },
  {
   "cell_type": "code",
   "execution_count": 3,
   "id": "b06a5e76",
   "metadata": {},
   "outputs": [
    {
     "data": {
      "text/plain": [
       "{'_id': 1, 'name': 'xyz', 'price': 99}"
      ]
     },
     "execution_count": 3,
     "metadata": {},
     "output_type": "execute_result"
    }
   ],
   "source": [
    "d2 = dict(_id = 1, name = 'xyz', price = 99)\n",
    "d2"
   ]
  },
  {
   "cell_type": "code",
   "execution_count": 4,
   "id": "d6f5ac53",
   "metadata": {},
   "outputs": [],
   "source": [
    "d3 = {\n",
    "    \"name\" : 'xyz',\n",
    "    \"name\" : 'abc'\n",
    "}"
   ]
  },
  {
   "cell_type": "code",
   "execution_count": 5,
   "id": "1a6beef6",
   "metadata": {},
   "outputs": [
    {
     "data": {
      "text/plain": [
       "{'name': 'abc'}"
      ]
     },
     "execution_count": 5,
     "metadata": {},
     "output_type": "execute_result"
    }
   ],
   "source": [
    "d3"
   ]
  },
  {
   "cell_type": "code",
   "execution_count": 6,
   "id": "1d05a858",
   "metadata": {},
   "outputs": [
    {
     "data": {
      "text/plain": [
       "'Shridhar'"
      ]
     },
     "execution_count": 6,
     "metadata": {},
     "output_type": "execute_result"
    }
   ],
   "source": [
    "d1['name']"
   ]
  },
  {
   "cell_type": "code",
   "execution_count": 63,
   "id": "3ce18bba",
   "metadata": {},
   "outputs": [],
   "source": [
    "d4 = {\n",
    "    '_id'     : 1,\n",
    "    \"name\"    : 'shridhar',\n",
    "    'M1'      : [10,20,30,40],\n",
    "    'M2'      : (10,20,30,40),\n",
    "    'M3'      : {10,20,30,40}\n",
    "}"
   ]
  },
  {
   "cell_type": "code",
   "execution_count": 64,
   "id": "728d6d82",
   "metadata": {},
   "outputs": [
    {
     "data": {
      "text/plain": [
       "{'_id': 1,\n",
       " 'name': 'shridhar',\n",
       " 'M1': [10, 20, 30, 40],\n",
       " 'M2': (10, 20, 30, 40),\n",
       " 'M3': {10, 20, 30, 40}}"
      ]
     },
     "execution_count": 64,
     "metadata": {},
     "output_type": "execute_result"
    }
   ],
   "source": [
    "d4"
   ]
  },
  {
   "cell_type": "code",
   "execution_count": 65,
   "id": "9edd5c19",
   "metadata": {},
   "outputs": [
    {
     "data": {
      "text/plain": [
       "dict_keys(['_id', 'name', 'M1', 'M2', 'M3'])"
      ]
     },
     "execution_count": 65,
     "metadata": {},
     "output_type": "execute_result"
    }
   ],
   "source": [
    "d4.keys()"
   ]
  },
  {
   "cell_type": "code",
   "execution_count": 66,
   "id": "56b9730f",
   "metadata": {},
   "outputs": [
    {
     "data": {
      "text/plain": [
       "dict_values([1, 'shridhar', [10, 20, 30, 40], (10, 20, 30, 40), {40, 10, 20, 30}])"
      ]
     },
     "execution_count": 66,
     "metadata": {},
     "output_type": "execute_result"
    }
   ],
   "source": [
    "d4.values()"
   ]
  },
  {
   "cell_type": "code",
   "execution_count": 67,
   "id": "e30d9d94",
   "metadata": {},
   "outputs": [
    {
     "data": {
      "text/plain": [
       "dict_items([('_id', 1), ('name', 'shridhar'), ('M1', [10, 20, 30, 40]), ('M2', (10, 20, 30, 40)), ('M3', {40, 10, 20, 30})])"
      ]
     },
     "execution_count": 67,
     "metadata": {},
     "output_type": "execute_result"
    }
   ],
   "source": [
    "d4.items()"
   ]
  },
  {
   "cell_type": "code",
   "execution_count": 68,
   "id": "e308561c",
   "metadata": {},
   "outputs": [],
   "source": [
    "d4['M4'] = True"
   ]
  },
  {
   "cell_type": "code",
   "execution_count": 69,
   "id": "50a92399",
   "metadata": {},
   "outputs": [
    {
     "data": {
      "text/plain": [
       "{'_id': 1,\n",
       " 'name': 'shridhar',\n",
       " 'M1': [10, 20, 30, 40],\n",
       " 'M2': (10, 20, 30, 40),\n",
       " 'M3': {10, 20, 30, 40},\n",
       " 'M4': True}"
      ]
     },
     "execution_count": 69,
     "metadata": {},
     "output_type": "execute_result"
    }
   ],
   "source": [
    "d4"
   ]
  },
  {
   "cell_type": "code",
   "execution_count": 70,
   "id": "198d5711",
   "metadata": {},
   "outputs": [
    {
     "data": {
      "text/plain": [
       "{'_id': 1,\n",
       " 'name': 'shridhar',\n",
       " 'M1': [10, 20, 30, 40],\n",
       " 'M2': (10, 20, 30, 40),\n",
       " 'M3': {10, 20, 30, 40},\n",
       " 'M4': False}"
      ]
     },
     "execution_count": 70,
     "metadata": {},
     "output_type": "execute_result"
    }
   ],
   "source": [
    "d4['M4'] = False\n",
    "d4"
   ]
  },
  {
   "cell_type": "code",
   "execution_count": 71,
   "id": "7f7ea7ff",
   "metadata": {},
   "outputs": [
    {
     "data": {
      "text/plain": [
       "{'_id': 1,\n",
       " 'name': 'shridhar',\n",
       " 'M1': [10, 20, 30, 40],\n",
       " 'M2': (10, 20, 30, 40),\n",
       " 'M3': {10, 20, 30, 40},\n",
       " 'M4': True}"
      ]
     },
     "execution_count": 71,
     "metadata": {},
     "output_type": "execute_result"
    }
   ],
   "source": [
    "d4.update({'M4' : True})\n",
    "d4"
   ]
  },
  {
   "cell_type": "code",
   "execution_count": 72,
   "id": "6492fa38",
   "metadata": {},
   "outputs": [
    {
     "data": {
      "text/plain": [
       "{'_id': 1,\n",
       " 'name': 'shridhar',\n",
       " 'M1': [10, 20, 30, 40],\n",
       " 'M2': (10, 20, 30, 40),\n",
       " 'M3': {10, 20, 30, 40},\n",
       " 'M4': True}"
      ]
     },
     "execution_count": 72,
     "metadata": {},
     "output_type": "execute_result"
    }
   ],
   "source": [
    "d5 = d4.copy()\n",
    "d5"
   ]
  },
  {
   "cell_type": "code",
   "execution_count": 73,
   "id": "a20d0188",
   "metadata": {},
   "outputs": [
    {
     "data": {
      "text/plain": [
       "True"
      ]
     },
     "execution_count": 73,
     "metadata": {},
     "output_type": "execute_result"
    }
   ],
   "source": [
    "d4.pop('M4')"
   ]
  },
  {
   "cell_type": "code",
   "execution_count": 74,
   "id": "fd734b72",
   "metadata": {},
   "outputs": [
    {
     "data": {
      "text/plain": [
       "{'_id': 1,\n",
       " 'name': 'shridhar',\n",
       " 'M1': [10, 20, 30, 40],\n",
       " 'M2': (10, 20, 30, 40),\n",
       " 'M3': {10, 20, 30, 40}}"
      ]
     },
     "execution_count": 74,
     "metadata": {},
     "output_type": "execute_result"
    }
   ],
   "source": [
    "d4"
   ]
  },
  {
   "cell_type": "code",
   "execution_count": 77,
   "id": "757aad5e",
   "metadata": {},
   "outputs": [
    {
     "data": {
      "text/plain": [
       "('M2', (10, 20, 30, 40))"
      ]
     },
     "execution_count": 77,
     "metadata": {},
     "output_type": "execute_result"
    }
   ],
   "source": [
    "d4.popitem()"
   ]
  },
  {
   "cell_type": "code",
   "execution_count": 78,
   "id": "b2ecf264",
   "metadata": {},
   "outputs": [
    {
     "data": {
      "text/plain": [
       "{'_id': 1, 'name': 'shridhar'}"
      ]
     },
     "execution_count": 78,
     "metadata": {},
     "output_type": "execute_result"
    }
   ],
   "source": [
    "del d4['M1']\n",
    "d4"
   ]
  },
  {
   "cell_type": "code",
   "execution_count": 57,
   "id": "d2a73950",
   "metadata": {},
   "outputs": [],
   "source": [
    "d4.clear()"
   ]
  },
  {
   "cell_type": "code",
   "execution_count": 58,
   "id": "649c854e",
   "metadata": {},
   "outputs": [
    {
     "data": {
      "text/plain": [
       "{}"
      ]
     },
     "execution_count": 58,
     "metadata": {},
     "output_type": "execute_result"
    }
   ],
   "source": [
    "d4"
   ]
  },
  {
   "cell_type": "code",
   "execution_count": 59,
   "id": "83537036",
   "metadata": {},
   "outputs": [
    {
     "ename": "NameError",
     "evalue": "name 'd4' is not defined",
     "output_type": "error",
     "traceback": [
      "\u001b[0;31m---------------------------------------------------------------------------\u001b[0m",
      "\u001b[0;31mNameError\u001b[0m                                 Traceback (most recent call last)",
      "\u001b[0;32m/var/folders/m0/4t6ggwz51774ll_46v6qgz3h0000gn/T/ipykernel_3308/846068526.py\u001b[0m in \u001b[0;36m<module>\u001b[0;34m\u001b[0m\n\u001b[1;32m      1\u001b[0m \u001b[0;32mdel\u001b[0m \u001b[0md4\u001b[0m\u001b[0;34m\u001b[0m\u001b[0;34m\u001b[0m\u001b[0m\n\u001b[0;32m----> 2\u001b[0;31m \u001b[0md4\u001b[0m\u001b[0;34m\u001b[0m\u001b[0;34m\u001b[0m\u001b[0m\n\u001b[0m",
      "\u001b[0;31mNameError\u001b[0m: name 'd4' is not defined"
     ]
    }
   ],
   "source": [
    "del d4\n",
    "d4"
   ]
  },
  {
   "cell_type": "markdown",
   "id": "6ceb0166",
   "metadata": {},
   "source": [
    "# Function"
   ]
  },
  {
   "cell_type": "code",
   "execution_count": 78,
   "id": "1cc1e824",
   "metadata": {},
   "outputs": [],
   "source": [
    "def function1():\n",
    "  print(\"Hello and Welcome Dosto\")"
   ]
  },
  {
   "cell_type": "code",
   "execution_count": 79,
   "id": "84ddacff",
   "metadata": {},
   "outputs": [
    {
     "name": "stdout",
     "output_type": "stream",
     "text": [
      "Hello and Welcome Dosto\n"
     ]
    }
   ],
   "source": [
    "function1()"
   ]
  },
  {
   "cell_type": "code",
   "execution_count": 80,
   "id": "bc83613c",
   "metadata": {},
   "outputs": [
    {
     "name": "stdout",
     "output_type": "stream",
     "text": [
      "Hello and Welcome Dosto to 5ME\n"
     ]
    }
   ],
   "source": [
    "def function2(plus):\n",
    "  print(\"Hello and Welcome Dosto\",plus)\n",
    "\n",
    "function2('to 5ME')"
   ]
  },
  {
   "cell_type": "code",
   "execution_count": 82,
   "id": "9d79790c",
   "metadata": {},
   "outputs": [
    {
     "name": "stdout",
     "output_type": "stream",
     "text": [
      "Hello and Welcome Dosto to 5ME\n"
     ]
    }
   ],
   "source": [
    "def function2(plus):\n",
    "  print(\"Hello and Welcome Dosto \" + plus)\n",
    "\n",
    "function2('to 5ME')"
   ]
  },
  {
   "cell_type": "code",
   "execution_count": 82,
   "id": "0787af75",
   "metadata": {},
   "outputs": [
    {
     "name": "stdout",
     "output_type": "stream",
     "text": [
      "shridhar mankar\n"
     ]
    }
   ],
   "source": [
    "def name(fname,lname):\n",
    "  print(fname + \" \" + lname)\n",
    "\n",
    "name('shridhar','mankar')"
   ]
  },
  {
   "cell_type": "code",
   "execution_count": 83,
   "id": "cd37d515",
   "metadata": {},
   "outputs": [
    {
     "name": "stdout",
     "output_type": "stream",
     "text": [
      "mankar shridhar\n"
     ]
    }
   ],
   "source": [
    "name('mankar','shridhar')"
   ]
  },
  {
   "cell_type": "code",
   "execution_count": 84,
   "id": "21266aff",
   "metadata": {},
   "outputs": [
    {
     "name": "stdout",
     "output_type": "stream",
     "text": [
      "shridhar mankar\n"
     ]
    }
   ],
   "source": [
    "def name1(lname,fname):\n",
    "  print(fname + \" \" + lname)\n",
    "\n",
    "name1(fname = 'shridhar',lname = 'mankar')"
   ]
  },
  {
   "cell_type": "code",
   "execution_count": 79,
   "id": "a769bf87",
   "metadata": {},
   "outputs": [
    {
     "name": "stdout",
     "output_type": "stream",
     "text": [
      "Hello and Welcome Dosto to 5 minutes engineering and to the video\n"
     ]
    }
   ],
   "source": [
    "def function2(*p):\n",
    "  print(\"Hello and Welcome Dosto\", p[0],p[1],p[2] )\n",
    "\n",
    "function2('to 5 minutes engineering','and','to the video')"
   ]
  },
  {
   "cell_type": "code",
   "execution_count": 86,
   "id": "17f3f5cb",
   "metadata": {},
   "outputs": [
    {
     "name": "stdout",
     "output_type": "stream",
     "text": [
      "shridhar rajendra parth\n"
     ]
    }
   ],
   "source": [
    "def name3(**students):\n",
    "  print(students['s1'],students['s2'],students['s3'])\n",
    "\n",
    "name3(s1 = 'shridhar',s2 = 'rajendra',s3 = 'parth')"
   ]
  },
  {
   "cell_type": "code",
   "execution_count": 81,
   "id": "7e1fe89d",
   "metadata": {},
   "outputs": [
    {
     "name": "stdout",
     "output_type": "stream",
     "text": [
      "Hello and Welcome Dosto to the video\n",
      "Hello and Welcome Dosto to 5 minutes engineering\n"
     ]
    }
   ],
   "source": [
    "def function2(p = 'to 5 minutes engineering'):\n",
    "  print(\"Hello and Welcome Dosto\",p)\n",
    "\n",
    "function2('to the video')\n",
    "function2()"
   ]
  },
  {
   "cell_type": "code",
   "execution_count": 88,
   "id": "2ca4d753",
   "metadata": {},
   "outputs": [
    {
     "data": {
      "text/plain": [
       "3"
      ]
     },
     "execution_count": 88,
     "metadata": {},
     "output_type": "execute_result"
    }
   ],
   "source": [
    "def sum_fun(a,b):\n",
    "  c = a+b\n",
    "  return c\n",
    "\n",
    "sum_fun(1,2)"
   ]
  },
  {
   "cell_type": "code",
   "execution_count": 89,
   "id": "85a1915b",
   "metadata": {},
   "outputs": [
    {
     "ename": "NameError",
     "evalue": "name 'c' is not defined",
     "output_type": "error",
     "traceback": [
      "\u001b[0;31m---------------------------------------------------------------------------\u001b[0m",
      "\u001b[0;31mNameError\u001b[0m                                 Traceback (most recent call last)",
      "\u001b[0;32m/var/folders/m0/4t6ggwz51774ll_46v6qgz3h0000gn/T/ipykernel_4909/2743823995.py\u001b[0m in \u001b[0;36m<module>\u001b[0;34m\u001b[0m\n\u001b[0;32m----> 1\u001b[0;31m \u001b[0mprint\u001b[0m\u001b[0;34m(\u001b[0m\u001b[0mc\u001b[0m\u001b[0;34m)\u001b[0m\u001b[0;34m\u001b[0m\u001b[0;34m\u001b[0m\u001b[0m\n\u001b[0m",
      "\u001b[0;31mNameError\u001b[0m: name 'c' is not defined"
     ]
    }
   ],
   "source": [
    "print(c)"
   ]
  },
  {
   "cell_type": "code",
   "execution_count": 95,
   "id": "13e85355",
   "metadata": {},
   "outputs": [
    {
     "data": {
      "text/plain": [
       "3"
      ]
     },
     "execution_count": 95,
     "metadata": {},
     "output_type": "execute_result"
    }
   ],
   "source": [
    "c = 5\n",
    "def sub_fun(a,b):\n",
    "  c = a-b\n",
    "  return c\n",
    "\n",
    "sub_fun(5,2)"
   ]
  },
  {
   "cell_type": "code",
   "execution_count": 96,
   "id": "3b2f9457",
   "metadata": {},
   "outputs": [
    {
     "name": "stdout",
     "output_type": "stream",
     "text": [
      "5\n"
     ]
    }
   ],
   "source": [
    "print(c)"
   ]
  },
  {
   "cell_type": "code",
   "execution_count": 97,
   "id": "52589845",
   "metadata": {},
   "outputs": [
    {
     "ename": "UnboundLocalError",
     "evalue": "local variable 'c' referenced before assignment",
     "output_type": "error",
     "traceback": [
      "\u001b[0;31m---------------------------------------------------------------------------\u001b[0m",
      "\u001b[0;31mUnboundLocalError\u001b[0m                         Traceback (most recent call last)",
      "\u001b[0;32m/var/folders/m0/4t6ggwz51774ll_46v6qgz3h0000gn/T/ipykernel_4909/4041211465.py\u001b[0m in \u001b[0;36m<module>\u001b[0;34m\u001b[0m\n\u001b[1;32m      4\u001b[0m   \u001b[0;32mreturn\u001b[0m \u001b[0mc\u001b[0m\u001b[0;34m\u001b[0m\u001b[0;34m\u001b[0m\u001b[0m\n\u001b[1;32m      5\u001b[0m \u001b[0;34m\u001b[0m\u001b[0m\n\u001b[0;32m----> 6\u001b[0;31m \u001b[0mfun\u001b[0m\u001b[0;34m(\u001b[0m\u001b[0;34m)\u001b[0m\u001b[0;34m\u001b[0m\u001b[0;34m\u001b[0m\u001b[0m\n\u001b[0m",
      "\u001b[0;32m/var/folders/m0/4t6ggwz51774ll_46v6qgz3h0000gn/T/ipykernel_4909/4041211465.py\u001b[0m in \u001b[0;36mfun\u001b[0;34m()\u001b[0m\n\u001b[1;32m      1\u001b[0m \u001b[0mc\u001b[0m \u001b[0;34m=\u001b[0m \u001b[0;36m5\u001b[0m\u001b[0;34m\u001b[0m\u001b[0;34m\u001b[0m\u001b[0m\n\u001b[1;32m      2\u001b[0m \u001b[0;32mdef\u001b[0m \u001b[0mfun\u001b[0m\u001b[0;34m(\u001b[0m\u001b[0;34m)\u001b[0m\u001b[0;34m:\u001b[0m\u001b[0;34m\u001b[0m\u001b[0;34m\u001b[0m\u001b[0m\n\u001b[0;32m----> 3\u001b[0;31m   \u001b[0mc\u001b[0m \u001b[0;34m=\u001b[0m \u001b[0mc\u001b[0m \u001b[0;34m+\u001b[0m \u001b[0;36m1\u001b[0m\u001b[0;34m\u001b[0m\u001b[0;34m\u001b[0m\u001b[0m\n\u001b[0m\u001b[1;32m      4\u001b[0m   \u001b[0;32mreturn\u001b[0m \u001b[0mc\u001b[0m\u001b[0;34m\u001b[0m\u001b[0;34m\u001b[0m\u001b[0m\n\u001b[1;32m      5\u001b[0m \u001b[0;34m\u001b[0m\u001b[0m\n",
      "\u001b[0;31mUnboundLocalError\u001b[0m: local variable 'c' referenced before assignment"
     ]
    }
   ],
   "source": [
    "c = 5\n",
    "def fun():\n",
    "  c = c + 1\n",
    "  return c\n",
    "\n",
    "fun()"
   ]
  },
  {
   "cell_type": "code",
   "execution_count": 98,
   "id": "82dc023a",
   "metadata": {},
   "outputs": [
    {
     "data": {
      "text/plain": [
       "6"
      ]
     },
     "execution_count": 98,
     "metadata": {},
     "output_type": "execute_result"
    }
   ],
   "source": [
    "c = 5\n",
    "def fun():\n",
    "  global c\n",
    "  c = c + 1\n",
    "  return c\n",
    "\n",
    "fun()"
   ]
  },
  {
   "cell_type": "markdown",
   "id": "0755c3a1",
   "metadata": {},
   "source": [
    "# Recursion"
   ]
  },
  {
   "cell_type": "code",
   "execution_count": 99,
   "id": "1838b385",
   "metadata": {},
   "outputs": [],
   "source": [
    "def normal_fun(x):\n",
    " while x >= 0:\n",
    "  print(x)\n",
    "  x-=1"
   ]
  },
  {
   "cell_type": "code",
   "execution_count": 100,
   "id": "52698169",
   "metadata": {},
   "outputs": [
    {
     "name": "stdout",
     "output_type": "stream",
     "text": [
      "10\n",
      "9\n",
      "8\n",
      "7\n",
      "6\n",
      "5\n",
      "4\n",
      "3\n",
      "2\n",
      "1\n",
      "0\n"
     ]
    }
   ],
   "source": [
    "normal_fun(10)"
   ]
  },
  {
   "cell_type": "code",
   "execution_count": 1,
   "id": "daa4b3b3",
   "metadata": {},
   "outputs": [],
   "source": [
    "def recu_fun(a):\n",
    " print(a)\n",
    " if (a > 0):\n",
    "  recu_fun(a-1)"
   ]
  },
  {
   "cell_type": "code",
   "execution_count": 2,
   "id": "76778078",
   "metadata": {},
   "outputs": [
    {
     "name": "stdout",
     "output_type": "stream",
     "text": [
      "10\n",
      "9\n",
      "8\n",
      "7\n",
      "6\n",
      "5\n",
      "4\n",
      "3\n",
      "2\n",
      "1\n",
      "0\n"
     ]
    }
   ],
   "source": [
    "recu_fun(10)"
   ]
  },
  {
   "cell_type": "code",
   "execution_count": 103,
   "id": "22cae26d",
   "metadata": {},
   "outputs": [
    {
     "data": {
      "text/plain": [
       "3000"
      ]
     },
     "execution_count": 103,
     "metadata": {},
     "output_type": "execute_result"
    }
   ],
   "source": [
    "from sys import getrecursionlimit\n",
    "getrecursionlimit()"
   ]
  },
  {
   "cell_type": "code",
   "execution_count": 104,
   "id": "6c3d1e88",
   "metadata": {},
   "outputs": [],
   "source": [
    "def recursion():\n",
    "    x = 10\n",
    "    recursion()"
   ]
  },
  {
   "cell_type": "code",
   "execution_count": 105,
   "id": "96e7bb21",
   "metadata": {},
   "outputs": [
    {
     "ename": "RecursionError",
     "evalue": "maximum recursion depth exceeded",
     "output_type": "error",
     "traceback": [
      "\u001b[0;31m---------------------------------------------------------------------------\u001b[0m",
      "\u001b[0;31mRecursionError\u001b[0m                            Traceback (most recent call last)",
      "\u001b[0;32m/var/folders/m0/4t6ggwz51774ll_46v6qgz3h0000gn/T/ipykernel_4909/1118091169.py\u001b[0m in \u001b[0;36m<module>\u001b[0;34m\u001b[0m\n\u001b[0;32m----> 1\u001b[0;31m \u001b[0mrecursion\u001b[0m\u001b[0;34m(\u001b[0m\u001b[0;34m)\u001b[0m\u001b[0;34m\u001b[0m\u001b[0;34m\u001b[0m\u001b[0m\n\u001b[0m",
      "\u001b[0;32m/var/folders/m0/4t6ggwz51774ll_46v6qgz3h0000gn/T/ipykernel_4909/268178428.py\u001b[0m in \u001b[0;36mrecursion\u001b[0;34m()\u001b[0m\n\u001b[1;32m      1\u001b[0m \u001b[0;32mdef\u001b[0m \u001b[0mrecursion\u001b[0m\u001b[0;34m(\u001b[0m\u001b[0;34m)\u001b[0m\u001b[0;34m:\u001b[0m\u001b[0;34m\u001b[0m\u001b[0;34m\u001b[0m\u001b[0m\n\u001b[1;32m      2\u001b[0m     \u001b[0mx\u001b[0m \u001b[0;34m=\u001b[0m \u001b[0;36m10\u001b[0m\u001b[0;34m\u001b[0m\u001b[0;34m\u001b[0m\u001b[0m\n\u001b[0;32m----> 3\u001b[0;31m     \u001b[0mrecursion\u001b[0m\u001b[0;34m(\u001b[0m\u001b[0;34m)\u001b[0m\u001b[0;34m\u001b[0m\u001b[0;34m\u001b[0m\u001b[0m\n\u001b[0m",
      "... last 1 frames repeated, from the frame below ...\n",
      "\u001b[0;32m/var/folders/m0/4t6ggwz51774ll_46v6qgz3h0000gn/T/ipykernel_4909/268178428.py\u001b[0m in \u001b[0;36mrecursion\u001b[0;34m()\u001b[0m\n\u001b[1;32m      1\u001b[0m \u001b[0;32mdef\u001b[0m \u001b[0mrecursion\u001b[0m\u001b[0;34m(\u001b[0m\u001b[0;34m)\u001b[0m\u001b[0;34m:\u001b[0m\u001b[0;34m\u001b[0m\u001b[0;34m\u001b[0m\u001b[0m\n\u001b[1;32m      2\u001b[0m     \u001b[0mx\u001b[0m \u001b[0;34m=\u001b[0m \u001b[0;36m10\u001b[0m\u001b[0;34m\u001b[0m\u001b[0;34m\u001b[0m\u001b[0m\n\u001b[0;32m----> 3\u001b[0;31m     \u001b[0mrecursion\u001b[0m\u001b[0;34m(\u001b[0m\u001b[0;34m)\u001b[0m\u001b[0;34m\u001b[0m\u001b[0;34m\u001b[0m\u001b[0m\n\u001b[0m",
      "\u001b[0;31mRecursionError\u001b[0m: maximum recursion depth exceeded"
     ]
    }
   ],
   "source": [
    "recursion()"
   ]
  },
  {
   "cell_type": "code",
   "execution_count": 6,
   "id": "b0ff2bf6",
   "metadata": {},
   "outputs": [],
   "source": [
    "def factorial(n):\n",
    " if(n == 1):\n",
    "   return 1\n",
    " else:\n",
    "   print(n)\n",
    "   return n * factorial(n-1)      "
   ]
  },
  {
   "cell_type": "code",
   "execution_count": 7,
   "id": "bc0c1b33",
   "metadata": {},
   "outputs": [
    {
     "name": "stdout",
     "output_type": "stream",
     "text": [
      "3\n",
      "2\n"
     ]
    },
    {
     "data": {
      "text/plain": [
       "6"
      ]
     },
     "execution_count": 7,
     "metadata": {},
     "output_type": "execute_result"
    }
   ],
   "source": [
    "factorial(3)"
   ]
  },
  {
   "cell_type": "code",
   "execution_count": 108,
   "id": "20a33d47",
   "metadata": {},
   "outputs": [],
   "source": [
    "def factt(n):\n",
    " if(n == 1):\n",
    "   print(n)\n",
    "   return 1\n",
    " else:\n",
    "   print (n,'*', end=' ')\n",
    "   return n * factt(n-1)"
   ]
  },
  {
   "cell_type": "code",
   "execution_count": 109,
   "id": "f1551526",
   "metadata": {},
   "outputs": [
    {
     "name": "stdout",
     "output_type": "stream",
     "text": [
      "5 * 4 * 3 * 2 * 1\n"
     ]
    },
    {
     "data": {
      "text/plain": [
       "120"
      ]
     },
     "execution_count": 109,
     "metadata": {},
     "output_type": "execute_result"
    }
   ],
   "source": [
    "factt(5)"
   ]
  },
  {
   "cell_type": "code",
   "execution_count": 110,
   "id": "c46c1b70",
   "metadata": {},
   "outputs": [],
   "source": [
    "# --->> 0,1,1,2,3,5,8  (fibonacci numbers)\n",
    "# --->> 0,1,2,3,4,5,6  (index)"
   ]
  },
  {
   "cell_type": "code",
   "execution_count": 111,
   "id": "a1f395c5",
   "metadata": {},
   "outputs": [],
   "source": [
    "def fib(n):\n",
    "   if n==0 or n==1:\n",
    "      return n\n",
    "   return fib(n-1) + fib(n-2)"
   ]
  },
  {
   "cell_type": "code",
   "execution_count": 113,
   "id": "0988b542",
   "metadata": {},
   "outputs": [],
   "source": [
    "#f(3) = f(2) + f(1)\n",
    "#     = f(1) + f(0) + 1\n",
    "#     = 1 + 0 + 1\n",
    "#     =  2"
   ]
  },
  {
   "cell_type": "code",
   "execution_count": 114,
   "id": "a2e58f56",
   "metadata": {},
   "outputs": [
    {
     "data": {
      "text/plain": [
       "2"
      ]
     },
     "execution_count": 114,
     "metadata": {},
     "output_type": "execute_result"
    }
   ],
   "source": [
    "fib(3)"
   ]
  },
  {
   "cell_type": "markdown",
   "id": "88c5873f",
   "metadata": {},
   "source": [
    "# Files"
   ]
  },
  {
   "cell_type": "code",
   "execution_count": 2,
   "id": "88d4830d",
   "metadata": {},
   "outputs": [
    {
     "name": "stdout",
     "output_type": "stream",
     "text": [
      "['s1', 's2', 's3', 'post']\n",
      "['12', '17', '9', '0']\n",
      "['8', '11', '11', '2']\n",
      "['20', '6', '8', '2']\n",
      "['20', '17', '11', '2']\n",
      "['7', '15', '9', '0']\n",
      "['13', '11', '18', '1']\n",
      "['5', '7', '18', '1']\n",
      "['6', '16', '9', '2']\n",
      "['9', '19', '17', '0']\n",
      "['8', '8', '6', '1']\n",
      "['20', '6', '8', '2']\n",
      "['18', '17', '13', '2']\n",
      "['7', '11', '14', '2']\n",
      "['15', '11', '14', '1']\n",
      "['8', '20', '10', '0']\n",
      "['15', '9', '5', '2']\n",
      "['9', '7', '12', '0']\n",
      "['11', '18', '13', '0']\n",
      "['20', '20', '10', '0']\n",
      "['19', '19', '5', '2']\n",
      "['20', '7', '18', '0']\n",
      "['9', '8', '19', '2']\n",
      "['19', '6', '7', '2']\n",
      "['7', '10', '12', '2']\n",
      "['6', '14', '8', '2']\n",
      "['5', '16', '7', '0']\n",
      "['17', '10', '19', '2']\n",
      "['19', '16', '9', '1']\n",
      "['17', '11', '9', '0']\n",
      "['5', '17', '18', '2']\n",
      "['7', '9', '17', '1']\n",
      "['11', '9', '5', '2']\n",
      "['11', '20', '15', '1']\n",
      "['10', '17', '17', '0']\n",
      "['8', '8', '6', '2']\n",
      "['6', '15', '20', '0']\n",
      "['18', '12', '7', '0']\n",
      "['7', '11', '8', '0']\n",
      "['9', '9', '17', '0']\n",
      "['14', '5', '6', '2']\n",
      "['13', '9', '11', '1']\n",
      "['18', '5', '14', '0']\n",
      "['11', '12', '9', '0']\n",
      "['12', '14', '10', '2']\n",
      "['5', '14', '13', '2']\n",
      "['14', '7', '13', '1']\n",
      "['20', '7', '17', '0']\n",
      "['17', '10', '8', '1']\n",
      "['20', '7', '14', '1']\n",
      "['13', '9', '9', '0']\n",
      "['9', '6', '13', '2']\n",
      "['18', '7', '16', '0']\n",
      "['17', '7', '11', '2']\n",
      "['11', '7', '9', '1']\n",
      "['11', '20', '11', '2']\n",
      "['12', '11', '14', '2']\n",
      "['18', '8', '6', '1']\n",
      "['17', '17', '12', '0']\n",
      "['5', '15', '11', '2']\n",
      "['5', '19', '16', '1']\n",
      "['9', '14', '7', '2']\n",
      "['7', '19', '17', '1']\n",
      "['10', '17', '15', '2']\n",
      "['15', '5', '6', '1']\n",
      "['17', '5', '13', '0']\n",
      "['6', '14', '19', '0']\n",
      "['12', '14', '20', '1']\n",
      "['16', '11', '17', '1']\n",
      "['9', '7', '20', '0']\n",
      "['8', '13', '8', '2']\n",
      "['11', '14', '5', '0']\n",
      "['17', '15', '5', '2']\n",
      "['13', '17', '10', '0']\n",
      "['15', '8', '18', '2']\n",
      "['14', '16', '20', '0']\n",
      "['5', '15', '18', '2']\n",
      "['16', '12', '20', '1']\n",
      "['16', '11', '7', '2']\n",
      "['20', '17', '20', '2']\n",
      "['9', '19', '6', '1']\n",
      "['20', '17', '20', '2']\n",
      "['8', '18', '10', '0']\n",
      "['11', '7', '14', '0']\n",
      "['7', '6', '7', '2']\n",
      "['8', '19', '9', '0']\n",
      "['20', '19', '11', '1']\n",
      "['11', '15', '19', '1']\n",
      "['13', '9', '18', '0']\n",
      "['10', '14', '10', '2']\n",
      "['11', '18', '18', '0']\n",
      "['17', '11', '7', '1']\n",
      "['17', '14', '20', '1']\n",
      "['20', '14', '10', '2']\n",
      "['8', '5', '15', '2']\n",
      "['9', '12', '20', '2']\n",
      "['7', '11', '5', '0']\n",
      "['7', '11', '9', '2']\n",
      "['10', '18', '12', '0']\n",
      "['12', '13', '7', '1']\n"
     ]
    }
   ],
   "source": [
    "import csv\n",
    "\n",
    "with open('jobpost.csv', 'r') as file:\n",
    "    reader = csv.reader(file)\n",
    "\n",
    "    for i in reader:\n",
    "        print(i)"
   ]
  },
  {
   "cell_type": "code",
   "execution_count": 3,
   "id": "ae6b0fa3",
   "metadata": {},
   "outputs": [],
   "source": [
    "with open('jobpost.csv', 'w') as file:\n",
    "    writer = csv.writer(file)\n",
    "    writer.writerow([1, 2, 3])\n",
    "    writer.writerow([10, 20, 30])"
   ]
  },
  {
   "cell_type": "code",
   "execution_count": 4,
   "id": "a366da75",
   "metadata": {},
   "outputs": [
    {
     "name": "stdout",
     "output_type": "stream",
     "text": [
      "['1', '2', '3']\n",
      "['10', '20', '30']\n"
     ]
    }
   ],
   "source": [
    "with open('jobpost.csv', 'r') as file:\n",
    "    reader = csv.reader(file)\n",
    "\n",
    "    for i in reader:\n",
    "        print(i)"
   ]
  },
  {
   "cell_type": "code",
   "execution_count": 5,
   "id": "3581805c",
   "metadata": {},
   "outputs": [],
   "source": [
    "with open('jobpost.csv', 'a') as file:\n",
    "    writer = csv.writer(file)\n",
    "    writer.writerow([1000, 2000, 3000])\n",
    "    writer.writerow([10000, 20000, 30000])"
   ]
  },
  {
   "cell_type": "code",
   "execution_count": 6,
   "id": "b1d2c0de",
   "metadata": {},
   "outputs": [
    {
     "name": "stdout",
     "output_type": "stream",
     "text": [
      "['1', '2', '3']\n",
      "['10', '20', '30']\n",
      "['1000', '2000', '3000']\n",
      "['10000', '20000', '30000']\n"
     ]
    }
   ],
   "source": [
    "with open('jobpost.csv', 'r') as file:\n",
    "    reader = csv.reader(file)\n",
    "\n",
    "    for i in reader:\n",
    "        print(i)"
   ]
  },
  {
   "cell_type": "code",
   "execution_count": 7,
   "id": "dfb968e6",
   "metadata": {},
   "outputs": [],
   "source": [
    "file1 = open(\"file1.txt\", \"x\")\n",
    "file1.write(\"Hello andd welcome dosto to 5 minutes engineering\")\n",
    "file1.close()"
   ]
  },
  {
   "cell_type": "code",
   "execution_count": 8,
   "id": "a59a8ea4",
   "metadata": {},
   "outputs": [
    {
     "ename": "FileExistsError",
     "evalue": "[Errno 17] File exists: 'file1.txt'",
     "output_type": "error",
     "traceback": [
      "\u001b[0;31m---------------------------------------------------------------------------\u001b[0m",
      "\u001b[0;31mFileExistsError\u001b[0m                           Traceback (most recent call last)",
      "\u001b[0;32m/var/folders/m0/4t6ggwz51774ll_46v6qgz3h0000gn/T/ipykernel_1909/2651183799.py\u001b[0m in \u001b[0;36m<module>\u001b[0;34m\u001b[0m\n\u001b[0;32m----> 1\u001b[0;31m \u001b[0mf1\u001b[0m \u001b[0;34m=\u001b[0m \u001b[0mopen\u001b[0m\u001b[0;34m(\u001b[0m\u001b[0;34m\"file1.txt\"\u001b[0m\u001b[0;34m,\u001b[0m \u001b[0;34m\"x\"\u001b[0m\u001b[0;34m)\u001b[0m\u001b[0;34m\u001b[0m\u001b[0;34m\u001b[0m\u001b[0m\n\u001b[0m",
      "\u001b[0;31mFileExistsError\u001b[0m: [Errno 17] File exists: 'file1.txt'"
     ]
    }
   ],
   "source": [
    "f1 = open(\"file1.txt\", \"x\")"
   ]
  },
  {
   "cell_type": "code",
   "execution_count": 9,
   "id": "ab13f056",
   "metadata": {},
   "outputs": [
    {
     "name": "stdout",
     "output_type": "stream",
     "text": [
      "Hello andd welcome dosto to 5 minutes engineering\n"
     ]
    }
   ],
   "source": [
    "file1 = open(\"file1.txt\", \"r\")\n",
    "print(file1.read())"
   ]
  },
  {
   "cell_type": "code",
   "execution_count": 10,
   "id": "46cb7bf7",
   "metadata": {},
   "outputs": [],
   "source": [
    "file4 = open(\"file1.txt\", \"w\")\n",
    "file4.write(\"write mode overwrite example\")\n",
    "file4.close()"
   ]
  },
  {
   "cell_type": "code",
   "execution_count": 11,
   "id": "c267fa4e",
   "metadata": {},
   "outputs": [
    {
     "name": "stdout",
     "output_type": "stream",
     "text": [
      "write mode overwrite example\n"
     ]
    }
   ],
   "source": [
    "file1 = open(\"file1.txt\", \"r\")\n",
    "print(file1.read())"
   ]
  },
  {
   "cell_type": "code",
   "execution_count": 12,
   "id": "c9e30252",
   "metadata": {},
   "outputs": [],
   "source": [
    "file4 = open(\"file1.txt\", \"a\")\n",
    "file4.write(\"append mode overwrite example\")\n",
    "file4.close()"
   ]
  },
  {
   "cell_type": "code",
   "execution_count": 13,
   "id": "258a873d",
   "metadata": {},
   "outputs": [
    {
     "name": "stdout",
     "output_type": "stream",
     "text": [
      "write mode overwrite exampleappend mode overwrite example\n"
     ]
    }
   ],
   "source": [
    "file1 = open(\"file1.txt\", \"r\")\n",
    "print(file1.read())"
   ]
  },
  {
   "cell_type": "code",
   "execution_count": 14,
   "id": "30ec907f",
   "metadata": {},
   "outputs": [],
   "source": [
    "import os\n",
    "os.remove(\"file1.txt\")"
   ]
  },
  {
   "cell_type": "markdown",
   "id": "1baec507",
   "metadata": {},
   "source": [
    "# Exception Handling"
   ]
  },
  {
   "cell_type": "code",
   "execution_count": 15,
   "id": "f6dbf479",
   "metadata": {},
   "outputs": [
    {
     "name": "stdout",
     "output_type": "stream",
     "text": [
      "Indexerror\n"
     ]
    }
   ],
   "source": [
    "try:\n",
    " listt = [1,2,3,4,5]\n",
    " print(listt[99])\n",
    "except IndexError:\n",
    "    print(\"Indexerror\")"
   ]
  },
  {
   "cell_type": "code",
   "execution_count": 4,
   "id": "c356799d",
   "metadata": {},
   "outputs": [
    {
     "ename": "IndexError",
     "evalue": "list index out of range",
     "output_type": "error",
     "traceback": [
      "\u001b[0;31m---------------------------------------------------------------------------\u001b[0m",
      "\u001b[0;31mIndexError\u001b[0m                                Traceback (most recent call last)",
      "\u001b[0;32m/var/folders/m0/4t6ggwz51774ll_46v6qgz3h0000gn/T/ipykernel_809/1287454406.py\u001b[0m in \u001b[0;36m<module>\u001b[0;34m\u001b[0m\n\u001b[1;32m      1\u001b[0m \u001b[0mlistt\u001b[0m \u001b[0;34m=\u001b[0m \u001b[0;34m[\u001b[0m\u001b[0;36m1\u001b[0m\u001b[0;34m,\u001b[0m\u001b[0;36m2\u001b[0m\u001b[0;34m,\u001b[0m\u001b[0;36m3\u001b[0m\u001b[0;34m,\u001b[0m\u001b[0;36m4\u001b[0m\u001b[0;34m,\u001b[0m\u001b[0;36m5\u001b[0m\u001b[0;34m]\u001b[0m\u001b[0;34m\u001b[0m\u001b[0;34m\u001b[0m\u001b[0m\n\u001b[0;32m----> 2\u001b[0;31m \u001b[0mprint\u001b[0m\u001b[0;34m(\u001b[0m\u001b[0mlistt\u001b[0m\u001b[0;34m[\u001b[0m\u001b[0;36m99\u001b[0m\u001b[0;34m]\u001b[0m\u001b[0;34m)\u001b[0m\u001b[0;34m\u001b[0m\u001b[0;34m\u001b[0m\u001b[0m\n\u001b[0m",
      "\u001b[0;31mIndexError\u001b[0m: list index out of range"
     ]
    }
   ],
   "source": [
    "listt = [1,2,3,4,5]\n",
    "print(listt[99])"
   ]
  },
  {
   "cell_type": "code",
   "execution_count": 16,
   "id": "22ccdd6b",
   "metadata": {},
   "outputs": [
    {
     "name": "stdout",
     "output_type": "stream",
     "text": [
      "NameError\n"
     ]
    }
   ],
   "source": [
    "def func(x):\n",
    "   print(a)\n",
    "     \n",
    "try:\n",
    "    func(5)\n",
    "except ZeroDivisionError:\n",
    "    print(\"ZeroDivisionError\")\n",
    "except NameError:\n",
    "    print(\"NameError\")"
   ]
  },
  {
   "cell_type": "code",
   "execution_count": 5,
   "id": "eeb31459",
   "metadata": {},
   "outputs": [
    {
     "name": "stdout",
     "output_type": "stream",
     "text": [
      "Indexerror\n",
      "Executing rest of the code\n",
      "Executing rest of the code\n",
      "Executing rest of the code\n",
      "Executing rest of the code\n",
      "Executing rest of the code\n",
      "Executing rest of the code\n"
     ]
    }
   ],
   "source": [
    "try:\n",
    " listt = [1,2,3,4,5]\n",
    " print(listt[99])\n",
    "except IndexError:\n",
    "    print(\"Indexerror\")\n",
    "finally:\n",
    "    print(\"Executing rest of the code\")\n",
    "    print(\"Executing rest of the code\")\n",
    "    print(\"Executing rest of the code\")\n",
    "    print(\"Executing rest of the code\")\n",
    "    print(\"Executing rest of the code\")\n",
    "    print(\"Executing rest of the code\")\n",
    "    "
   ]
  },
  {
   "cell_type": "code",
   "execution_count": 8,
   "id": "5ac3a9d2",
   "metadata": {},
   "outputs": [
    {
     "name": "stdout",
     "output_type": "stream",
     "text": [
      "Enter a number: 32\n",
      "Fail\n"
     ]
    }
   ],
   "source": [
    "class CustomException(Exception):\n",
    "    pass\n",
    "\n",
    "threshold = 35\n",
    "\n",
    "try:\n",
    "    marks = int(input(\"Enter a number: \"))\n",
    "    if marks < threshold:\n",
    "        raise CustomException\n",
    "    else:\n",
    "        print(\"Pass\")\n",
    "        \n",
    "except CustomException:\n",
    "    print(\"Fail\")"
   ]
  },
  {
   "cell_type": "markdown",
   "id": "08e2e447",
   "metadata": {},
   "source": [
    "# Class & Object"
   ]
  },
  {
   "cell_type": "code",
   "execution_count": 22,
   "id": "93a2f5c1",
   "metadata": {},
   "outputs": [
    {
     "name": "stdout",
     "output_type": "stream",
     "text": [
      "shridhar\n",
      "1\n"
     ]
    }
   ],
   "source": [
    "class class1:\n",
    "    d1 = \"shridhar\"\n",
    "    d2 = 1\n",
    "\n",
    "obj1 = class1()\n",
    "print(obj1.d1)\n",
    "print(obj1.d2)"
   ]
  },
  {
   "cell_type": "code",
   "execution_count": 24,
   "id": "bf604372",
   "metadata": {},
   "outputs": [
    {
     "name": "stdout",
     "output_type": "stream",
     "text": [
      "shridhar\n",
      "Rajendra\n"
     ]
    }
   ],
   "source": [
    "obj2 = class1()\n",
    "print(obj2.d1)\n",
    "obj2.d1 = \"Rajendra\"\n",
    "print(obj2.d1)"
   ]
  },
  {
   "cell_type": "code",
   "execution_count": 25,
   "id": "1ff87199",
   "metadata": {},
   "outputs": [
    {
     "name": "stdout",
     "output_type": "stream",
     "text": [
      "name--> shridhar\n",
      "name--> Rajendra\n"
     ]
    }
   ],
   "source": [
    "class class2:\n",
    "    name = \"shridhar\"\n",
    "    roll_no = 1\n",
    "\n",
    "    def abc(self):\n",
    "        print(\"name-->\",self.name)\n",
    "\n",
    "obj11 = class2()\n",
    "obj11.abc()\n",
    "obj11.name = \"Rajendra\"\n",
    "obj11.abc()"
   ]
  },
  {
   "cell_type": "code",
   "execution_count": 26,
   "id": "31f37bb3",
   "metadata": {},
   "outputs": [
    {
     "name": "stdout",
     "output_type": "stream",
     "text": [
      "Manisha\n",
      "name--> Manisha\n"
     ]
    }
   ],
   "source": [
    "class class3:\n",
    "    def __init__(self,name):\n",
    "        self.name = name\n",
    "\n",
    "    roll_no = 1\n",
    "\n",
    "    def abc(self):\n",
    "        print(\"name-->\",self.name)\n",
    "\n",
    "obj111 = class3(\"Manisha\")\n",
    "print(obj111.name)\n",
    "obj111.abc()\n"
   ]
  },
  {
   "cell_type": "code",
   "execution_count": 27,
   "id": "753edc6d",
   "metadata": {},
   "outputs": [
    {
     "name": "stdout",
     "output_type": "stream",
     "text": [
      "Parent Class\n",
      "Parent name -->  Rajendra\n"
     ]
    }
   ],
   "source": [
    "class Parent:\n",
    "    name = \"\"\n",
    "    \n",
    "    def m1(self):\n",
    "        print(\"Parent Class\")\n",
    "\n",
    "class Child(Parent):\n",
    "\n",
    "    def m2(self):\n",
    "        print(\"Parent name --> \", self.name)\n",
    "\n",
    "\n",
    "c1 = Child()\n",
    "c1.name = \"Rajendra\"\n",
    "c1.m1()\n",
    "c1.m2()"
   ]
  },
  {
   "cell_type": "code",
   "execution_count": 33,
   "id": "37066db3",
   "metadata": {},
   "outputs": [
    {
     "name": "stdout",
     "output_type": "stream",
     "text": [
      "5\n",
      "5\n"
     ]
    }
   ],
   "source": [
    "class class4:\n",
    "  x = 1 \n",
    "\n",
    "  def __init__(self): \n",
    "    self.x = 5\n",
    "    print(self.x)\n",
    " \n",
    "obj = class4()\n",
    "print(obj.x)"
   ]
  },
  {
   "cell_type": "code",
   "execution_count": 34,
   "id": "cf13a8c6",
   "metadata": {},
   "outputs": [
    {
     "name": "stdout",
     "output_type": "stream",
     "text": [
      "1\n",
      "1\n"
     ]
    }
   ],
   "source": [
    "class Parent1:\n",
    "    x = 1\n",
    "\n",
    "class Child1(Parent1):\n",
    "    def __init__(self):\n",
    "        print(self.x)\n",
    "\n",
    "objj = Child1()\n",
    "print(objj.x)"
   ]
  },
  {
   "cell_type": "code",
   "execution_count": 6,
   "id": "ef957466",
   "metadata": {},
   "outputs": [
    {
     "name": "stdout",
     "output_type": "stream",
     "text": [
      "Class A\n",
      "Class B\n"
     ]
    }
   ],
   "source": [
    "class A:\n",
    "    def f1(self):\n",
    "        print(\"Class A\")\n",
    "\n",
    "class B:\n",
    "    def f2(self):\n",
    "        print(\"Class B\")\n",
    "\n",
    "class C(A,B):\n",
    "    def f3(self):\n",
    "        print(\"Class C\")\n",
    "\n",
    "c = C()\n",
    "c.f1()\n",
    "c.f2()"
   ]
  },
  {
   "cell_type": "code",
   "execution_count": 7,
   "id": "5fb3d39e",
   "metadata": {},
   "outputs": [
    {
     "name": "stdout",
     "output_type": "stream",
     "text": [
      "Class A\n",
      "Class B\n",
      "Class C\n"
     ]
    }
   ],
   "source": [
    "class A:\n",
    "    def f1(self):\n",
    "        print(\"Class A\")\n",
    "\n",
    "class B(A):\n",
    "    def f2(self):\n",
    "        print(\"Class B\")\n",
    "\n",
    "class C(B):\n",
    "    def f3(self):\n",
    "        print(\"Class C\")\n",
    "\n",
    "c = C()\n",
    "c.f1()\n",
    "c.f2()\n",
    "c.f3()"
   ]
  },
  {
   "cell_type": "code",
   "execution_count": 8,
   "id": "8676cdc3",
   "metadata": {},
   "outputs": [
    {
     "name": "stdout",
     "output_type": "stream",
     "text": [
      "Shridhar\n",
      "5\n"
     ]
    }
   ],
   "source": [
    "string = \"Shri\"+\"dhar\"\n",
    "number = 2+3\n",
    "print(string)\n",
    "print(number)"
   ]
  },
  {
   "cell_type": "code",
   "execution_count": 9,
   "id": "99f6a51e",
   "metadata": {},
   "outputs": [
    {
     "name": "stdout",
     "output_type": "stream",
     "text": [
      "8\n",
      "3\n"
     ]
    }
   ],
   "source": [
    "print(len(\"Shridhar\"))\n",
    "print(len([5, \"Minutes\", \"Engineering\"]))"
   ]
  },
  {
   "cell_type": "code",
   "execution_count": 10,
   "id": "0b3f9c7e",
   "metadata": {},
   "outputs": [
    {
     "name": "stdout",
     "output_type": "stream",
     "text": [
      "Class A\n",
      "Class B\n",
      "Class C\n"
     ]
    }
   ],
   "source": [
    "class A:\n",
    "    def f1(self):\n",
    "        print(\"Class A\")\n",
    "\n",
    "class B:\n",
    "    def f1(self):\n",
    "        print(\"Class B\")\n",
    "\n",
    "class C:\n",
    "    def f1(self):\n",
    "        print(\"Class C\")\n",
    "\n",
    "a = A()\n",
    "a.f1()\n",
    "\n",
    "b = B()\n",
    "b.f1()\n",
    "\n",
    "c = C()\n",
    "c.f1()"
   ]
  },
  {
   "cell_type": "markdown",
   "id": "0deef935",
   "metadata": {},
   "source": [
    "# Lambda Function"
   ]
  },
  {
   "cell_type": "code",
   "execution_count": 12,
   "id": "322228df",
   "metadata": {},
   "outputs": [],
   "source": [
    "fun = lambda : print(\"5 Minutes Engineering\")"
   ]
  },
  {
   "cell_type": "code",
   "execution_count": 13,
   "id": "c81e281f",
   "metadata": {},
   "outputs": [
    {
     "name": "stdout",
     "output_type": "stream",
     "text": [
      "5 Minutes Engineering\n"
     ]
    }
   ],
   "source": [
    "fun()"
   ]
  },
  {
   "cell_type": "code",
   "execution_count": 15,
   "id": "04f2d3a2",
   "metadata": {},
   "outputs": [
    {
     "name": "stdout",
     "output_type": "stream",
     "text": [
      "5 Minutes Engineering\n"
     ]
    }
   ],
   "source": [
    "fun1 = lambda x : print(x)\n",
    "fun1(\"5 Minutes Engineering\")"
   ]
  },
  {
   "cell_type": "code",
   "execution_count": 27,
   "id": "e49841c5",
   "metadata": {},
   "outputs": [
    {
     "data": {
      "text/plain": [
       "5"
      ]
     },
     "execution_count": 27,
     "metadata": {},
     "output_type": "execute_result"
    }
   ],
   "source": [
    "fun2 = lambda x,y : x if x>y else y\n",
    "fun2(5,2)"
   ]
  },
  {
   "cell_type": "code",
   "execution_count": 28,
   "id": "848ffc5d",
   "metadata": {},
   "outputs": [
    {
     "data": {
      "text/plain": [
       "8"
      ]
     },
     "execution_count": 28,
     "metadata": {},
     "output_type": "execute_result"
    }
   ],
   "source": [
    "fun3 = lambda x,y,z : x+y+z\n",
    "fun3(5,2,1)"
   ]
  },
  {
   "cell_type": "markdown",
   "id": "295e0ee5",
   "metadata": {},
   "source": [
    "# Iterators and Generators"
   ]
  },
  {
   "cell_type": "code",
   "execution_count": 1,
   "id": "29ccb0b4",
   "metadata": {},
   "outputs": [
    {
     "name": "stdout",
     "output_type": "stream",
     "text": [
      "['__add__', '__class__', '__class_getitem__', '__contains__', '__delattr__', '__delitem__', '__dir__', '__doc__', '__eq__', '__format__', '__ge__', '__getattribute__', '__getitem__', '__gt__', '__hash__', '__iadd__', '__imul__', '__init__', '__init_subclass__', '__iter__', '__le__', '__len__', '__lt__', '__mul__', '__ne__', '__new__', '__reduce__', '__reduce_ex__', '__repr__', '__reversed__', '__rmul__', '__setattr__', '__setitem__', '__sizeof__', '__str__', '__subclasshook__', 'append', 'clear', 'copy', 'count', 'extend', 'index', 'insert', 'pop', 'remove', 'reverse', 'sort']\n"
     ]
    }
   ],
   "source": [
    "listt = [1,2,3,4,5]\n",
    "print(dir(listt))"
   ]
  },
  {
   "cell_type": "code",
   "execution_count": 3,
   "id": "a4972c4d",
   "metadata": {},
   "outputs": [
    {
     "name": "stdout",
     "output_type": "stream",
     "text": [
      "<list_iterator object at 0x7fa8b8b4d160>\n"
     ]
    }
   ],
   "source": [
    "print(listt.__iter__())"
   ]
  },
  {
   "cell_type": "code",
   "execution_count": 4,
   "id": "35743af0",
   "metadata": {},
   "outputs": [
    {
     "name": "stdout",
     "output_type": "stream",
     "text": [
      "<list_iterator object at 0x7fa8b8b4d130>\n"
     ]
    }
   ],
   "source": [
    "print(iter(listt))"
   ]
  },
  {
   "cell_type": "code",
   "execution_count": 16,
   "id": "02de091a",
   "metadata": {},
   "outputs": [
    {
     "name": "stdout",
     "output_type": "stream",
     "text": [
      "1\n",
      "2\n"
     ]
    }
   ],
   "source": [
    "listt = [1,2,3,4,5]\n",
    "\n",
    "ite = iter(listt)\n",
    "\n",
    "print(next(ite)) \n",
    "print(next(ite))"
   ]
  },
  {
   "cell_type": "code",
   "execution_count": 17,
   "id": "54becb96",
   "metadata": {},
   "outputs": [
    {
     "name": "stdout",
     "output_type": "stream",
     "text": [
      "1\n",
      "2\n",
      "3\n",
      "4\n",
      "5\n"
     ]
    }
   ],
   "source": [
    "for i in listt:\n",
    "    print(i)"
   ]
  },
  {
   "cell_type": "code",
   "execution_count": 18,
   "id": "01c8a2f2",
   "metadata": {},
   "outputs": [
    {
     "name": "stdout",
     "output_type": "stream",
     "text": [
      "3\n",
      "4\n",
      "5\n"
     ]
    }
   ],
   "source": [
    "for i in ite:\n",
    "    print(i)"
   ]
  },
  {
   "cell_type": "code",
   "execution_count": 19,
   "id": "d24b4d21",
   "metadata": {},
   "outputs": [
    {
     "name": "stdout",
     "output_type": "stream",
     "text": [
      "5\n",
      "10\n",
      "15\n"
     ]
    }
   ],
   "source": [
    "class iterator:\n",
    "    def __init__(self,val):\n",
    "        self.val = val\n",
    "\n",
    "    def __iter__(self):\n",
    "        self.num = 1\n",
    "        return self\n",
    "\n",
    "    def __next__(self):\n",
    "        if self.num <= self.val:\n",
    "            final = self.num * 5\n",
    "            self.num += 1\n",
    "            return final\n",
    "        else:\n",
    "            raise StopIteration\n",
    "\n",
    "obj = iterator(5)\n",
    "itr = iter(obj)\n",
    "\n",
    "print(next(itr))\n",
    "print(next(itr)) \n",
    "print(next(itr)) "
   ]
  },
  {
   "cell_type": "code",
   "execution_count": 30,
   "id": "3fb649d8",
   "metadata": {},
   "outputs": [
    {
     "name": "stdout",
     "output_type": "stream",
     "text": [
      "<generator object generator0 at 0x7fa8a8010ba0>\n",
      "G0 5\n",
      "G0 10\n",
      "G0 15\n",
      "G0 20\n"
     ]
    }
   ],
   "source": [
    "def generator0():\n",
    "    n=0\n",
    "    \n",
    "    n = n+5\n",
    "    yield n\n",
    "    n = n+5\n",
    "    \n",
    "    yield n\n",
    "    n = n+5\n",
    "\n",
    "    yield n\n",
    "    n = n+5\n",
    "    \n",
    "    yield n\n",
    "\n",
    "obj = generator0()\n",
    "print(obj)\n",
    "print(\"G0\",next(obj))\n",
    "print(\"G0\",next(obj))\n",
    "print(\"G0\",next(obj))\n",
    "print(\"G0\",next(obj))"
   ]
  },
  {
   "cell_type": "code",
   "execution_count": 11,
   "id": "674094f3",
   "metadata": {},
   "outputs": [],
   "source": [
    "def generator1(n):\n",
    "    x = 5\n",
    "    while x < n:\n",
    "        yield x\n",
    "        x = x + 5"
   ]
  },
  {
   "cell_type": "code",
   "execution_count": 32,
   "id": "de07e0e8",
   "metadata": {},
   "outputs": [
    {
     "name": "stdout",
     "output_type": "stream",
     "text": [
      "5\n",
      "10\n",
      "15\n",
      "20\n",
      "25\n",
      "30\n",
      "35\n",
      "40\n",
      "45\n",
      "50\n",
      "55\n",
      "60\n",
      "65\n",
      "70\n",
      "75\n",
      "80\n",
      "85\n",
      "90\n",
      "95\n"
     ]
    }
   ],
   "source": [
    "for i in generator1(100):\n",
    "    print(i)"
   ]
  },
  {
   "cell_type": "markdown",
   "id": "cfab0421",
   "metadata": {},
   "source": [
    "# Closure"
   ]
  },
  {
   "cell_type": "code",
   "execution_count": 15,
   "id": "d8b63087",
   "metadata": {},
   "outputs": [],
   "source": [
    "def abc(x):\n",
    "    def xyz():\n",
    "        print(x)\n",
    "\n",
    "abc(5)"
   ]
  },
  {
   "cell_type": "code",
   "execution_count": 16,
   "id": "ca664ff6",
   "metadata": {},
   "outputs": [
    {
     "name": "stdout",
     "output_type": "stream",
     "text": [
      "5\n"
     ]
    }
   ],
   "source": [
    "def abc(x):\n",
    "    def xyz():\n",
    "        print(x)\n",
    "    xyz()\n",
    "\n",
    "abc(5)"
   ]
  },
  {
   "cell_type": "code",
   "execution_count": 17,
   "id": "94844ed3",
   "metadata": {},
   "outputs": [
    {
     "name": "stdout",
     "output_type": "stream",
     "text": [
      "5\n"
     ]
    }
   ],
   "source": [
    "def abc(x):\n",
    "    def xyz():\n",
    "        print(x)\n",
    "    return xyz\n",
    "\n",
    "x = abc(5)\n",
    "x()"
   ]
  },
  {
   "cell_type": "code",
   "execution_count": 25,
   "id": "12dccb9b",
   "metadata": {},
   "outputs": [
    {
     "name": "stdout",
     "output_type": "stream",
     "text": [
      "5\n"
     ]
    }
   ],
   "source": [
    "def abc1(x):\n",
    "\n",
    "    return lambda: x\n",
    "\n",
    "num = abc1(5)\n",
    "print(num())"
   ]
  },
  {
   "cell_type": "code",
   "execution_count": 26,
   "id": "0d60487c",
   "metadata": {},
   "outputs": [],
   "source": [
    "def make_multiplier_of(n):\n",
    "    def multiplier(x):\n",
    "        return x * n\n",
    "    return multiplier"
   ]
  },
  {
   "cell_type": "code",
   "execution_count": 27,
   "id": "95c370e5",
   "metadata": {},
   "outputs": [
    {
     "name": "stdout",
     "output_type": "stream",
     "text": [
      "27\n",
      "15\n"
     ]
    }
   ],
   "source": [
    "times3 = make_multiplier_of(3)\n",
    "times5 = make_multiplier_of(5)\n",
    "\n",
    "print(times3(9))\n",
    "print(times5(3))"
   ]
  },
  {
   "cell_type": "markdown",
   "id": "3e44443c",
   "metadata": {},
   "source": [
    "# Decorators"
   ]
  },
  {
   "cell_type": "code",
   "execution_count": 22,
   "id": "f4f5b48c",
   "metadata": {},
   "outputs": [
    {
     "name": "stdout",
     "output_type": "stream",
     "text": [
      "Hello ji Dosto\n"
     ]
    }
   ],
   "source": [
    "def deco_func(func):\n",
    "    \n",
    "    def inner():\n",
    "        func()\n",
    "        print(\"Dosto\")\n",
    "    return inner\n",
    "\n",
    "def original():\n",
    "    print(\"Hello ji\",end=\" \")\n",
    "    \n",
    "decorated_func = deco_func(original)\n",
    "\n",
    "decorated_func()"
   ]
  },
  {
   "cell_type": "code",
   "execution_count": 35,
   "id": "90f96fed",
   "metadata": {},
   "outputs": [],
   "source": [
    "def deco_func(func):\n",
    "    \n",
    "    def inner():\n",
    "        func()\n",
    "        print(\"Dosto\")\n",
    "    return inner\n",
    "\n",
    "@deco_func\n",
    "def original():\n",
    "    print(\"Hello ji\",end=\" \")"
   ]
  },
  {
   "cell_type": "code",
   "execution_count": 36,
   "id": "7312588b",
   "metadata": {},
   "outputs": [
    {
     "name": "stdout",
     "output_type": "stream",
     "text": [
      "Hello ji Dosto\n"
     ]
    }
   ],
   "source": [
    "original()"
   ]
  },
  {
   "cell_type": "code",
   "execution_count": null,
   "id": "d5561f52",
   "metadata": {},
   "outputs": [],
   "source": []
  }
 ],
 "metadata": {
  "kernelspec": {
   "display_name": "Python 3",
   "language": "python",
   "name": "python3"
  },
  "language_info": {
   "codemirror_mode": {
    "name": "ipython",
    "version": 3
   },
   "file_extension": ".py",
   "mimetype": "text/x-python",
   "name": "python",
   "nbconvert_exporter": "python",
   "pygments_lexer": "ipython3",
   "version": "3.11.6"
  }
 },
 "nbformat": 4,
 "nbformat_minor": 5
}
